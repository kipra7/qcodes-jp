{
 "cells": [
  {
   "cell_type": "markdown",
   "metadata": {},
   "source": [
    "# 15分でわかるQCoDes\n",
    "\n",
    "この短い紹介は、潜在的あるいは新規のユーザーが、本ソフトウェアの感触を得るために作られています。ここでは、ダミーの計器を使用して単純な測定を実行します。QCoDeSを使用した最初のコードを開始する前に、[この文章](../start/index.rst#installation)で説明されているように、Python環境を適切に設定していることを確認してください。このノートブックをインタラクティブにフォローしたい場合は、[GitHubからダウンロード](https://github.com/QCoDeS/Qcodes/blob/main/docs/examples/15_minutes_to_QCoDeS.ipynb)してローカルシステムで実行するか、または \"launch binder\" リンクを使用してWebインターフェース経由で使用することができます。\n"
   ]
  },
  {
   "cell_type": "markdown",
   "metadata": {},
   "source": [
    "## Introduction\n",
    "\n",
    "QCoDeSは、ナノエレクトロニクスの実験を促進するための、Pythonベースのデータ収集・処理フレームワークです。高度にカスタム可能なオープンソースプロジェクトとして、このシステムは多様な実験セットアップのニーズに適合し、コミュニティ全体の実験作業のための共通システムとして機能することを期待しています。\n",
    "\n",
    "本記事は、QCoDeSの実用的な概要を提供し、インストールから実験データの取り扱いまでを1冊のノートブックにまとめたものです。途中には、このソフトウェアの機能をあなたの実験用に設定するために役立つリンクが用意されています。"
   ]
  },
  {
   "cell_type": "markdown",
   "metadata": {},
   "source": [
    "## Installation\n",
    "\n",
    "QCoDeSは、pipまたはcondaパッケージマネージャを使って、お好みの環境に簡単にインストールできます。その他のインストール方法については、[インストールガイド](../start/index.rst#installation)をご参照ください。\n",
    "\n",
    "pip 経由でインストールします：\n",
    "\n",
    "\n",
    "> pip install qcodes\n",
    "\n",
    "conda 経由でインストールします：\n",
    "\n",
    "> conda -c conda-forge install qcodes\n"
   ]
  },
  {
   "cell_type": "markdown",
   "metadata": {},
   "source": [
    "## モジュールのインポート\n",
    "\n",
    "QCoDeSには様々なモジュールが用意されていますが、この例では単純な測定において必要なものだけをインポートします。"
   ]
  },
  {
   "cell_type": "code",
   "execution_count": 1,
   "metadata": {},
   "outputs": [],
   "source": [
    "import numpy as np\n",
    "\n",
    "import qcodes as qc\n",
    "\n",
    "## Multidimensional scanning module\n",
    "from qcodes.dataset import (\n",
    "    LinSweep,\n",
    "    Measurement,\n",
    "    dond,\n",
    "    experiments,\n",
    "    initialise_or_create_database_at,\n",
    "    load_by_run_spec,\n",
    "    load_or_create_experiment,\n",
    "    plot_dataset,\n",
    ")\n",
    "\n",
    "## Dummy instruments for generating synthetic data\n",
    "from qcodes.instrument_drivers.mock_instruments import (\n",
    "    DummyInstrument,\n",
    "    DummyInstrumentWithMeasurement,\n",
    ")\n",
    "\n",
    "## Using interactive widget\n",
    "from qcodes.interactive_widget import experiments_widget"
   ]
  },
  {
   "cell_type": "markdown",
   "metadata": {},
   "source": [
    "## Instruments\n",
    "\n",
    "Instrument クラス\n",
    "\n",
    "QCoDeSのInstrumentクラスは、ハードウェアへの接続機能を担保し、内蔵メソッドで計測器を制御します。計測器クラスの詳細については、[こちらの詳細説明](writing_drivers/Instruments.ipynb)または対応する[apiドキュメント](../api/instrument/index.rst)を参照してください。\n",
    "\n",
    "例として、まずはふたつのダミーインストゥルメントを作製します。\n",
    "\n",
    "- 2チャンネルのデジタル-アナログコンバーター(`dac`)\n",
    "- 生成された信号を測定するデジタル・マルチメーター(`dmm`)"
   ]
  },
  {
   "cell_type": "code",
   "execution_count": 2,
   "metadata": {},
   "outputs": [],
   "source": [
    "# A dummy signal generator with two parameters ch1 and ch2\n",
    "dac = DummyInstrument('dac', gates=['ch1', 'ch2'])\n",
    "\n",
    "# A dummy digital multimeter that generates a synthetic data depending\n",
    "# on the values set on the setter_instr, in this case the dummy dac\n",
    "dmm = DummyInstrumentWithMeasurement('dmm', setter_instr=dac)"
   ]
  },
  {
   "cell_type": "markdown",
   "metadata": {},
   "source": [
    "すべての計器は、コンフィギュレーションを検査するためのメソッドを備えています。これを``スナップショット``と呼びます。デジタル・マルチメーターの例で垣間見えるように、メソッドは人間が読めるバージョンとして提供されます。：（翻訳要検討）"
   ]
  },
  {
   "cell_type": "code",
   "execution_count": 3,
   "metadata": {},
   "outputs": [
    {
     "name": "stdout",
     "output_type": "stream",
     "text": [
      "dmm:\n",
      "\tparameter value\n",
      "--------------------------------------------------------------------------------\n",
      "IDN :\tNone \n",
      "v1  :\t0 (V)\n",
      "v2  :\t0 (V)\n"
     ]
    }
   ],
   "source": [
    "dmm.print_readable_snapshot()"
   ]
  },
  {
   "cell_type": "markdown",
   "metadata": {},
   "source": [
    "見ての通り、我々のダミーマルチメーター `dmm` は、ふたつのパラメーター (`Parameters`) v1, v2 を持っています。これらはダミーシグナルジェネレーター(`dac`)が持つふたつのチャンネルに対応します。"
   ]
  },
  {
   "cell_type": "markdown",
   "metadata": {},
   "source": [
    "## Parameters\n",
    "\n",
    "QCoDeSにおける `Parameter` は、インストゥルメントに依存する値で、メソッドを通して値を取得したり設定したりできます。直感的には、`Parameter` は、QCoDeS がほとんどの計測器と通信するために用いられる方法です。例えば、デジタルマルチメーターは設定(例：モード、レンジ)を必要とし、データ(例：電圧、電流)を提供します。これらのメソッドは、 [parameter API](../api/parameters/index.rst)を利用する[instrument drivers](index.rst#drivers)によって定義されています。\n",
    "\n",
    "この例では、合成データを生成するために、`set` 及び`get`メソッドを活用してダミーインストゥルメントを使用しています。\n",
    "\n",
    "`dac` においては、`DummyInstrument` クラスのインスタンス化でこれらの設定可能な `Parameter `が追加されます（`ch1`と`ch2`に対応しています）。\n",
    "\n",
    "> dac = DummyInstrument('dac', **gates=['ch1', 'ch2']**)\n",
    "\n",
    "同様に、ダミーのデジタル・マルチメーターである`dmm`は、セッター計測器（setter_instr, つまり`dac`）の出力チャンネルで定義された`DummyInstrumentWithMeasurement`クラスのインスタンス化によって、取得可能な`Parameter`が追加されます。\n",
    "\n",
    "> dmm = DummyInstrumentWithMeasurement('dmm', **setter_instr=dac**)\n",
    "\n",
    "Instrumentsのインスタンス化の方法は異なる（例えば`dac`ならgates、`dmm`ならsetter_instrのように）場合がありますが、`Parameter`自体ははQCoDeSの測定に共通するインターフェースです。\n",
    "\n",
    "QCoDesでは利便性のため、広範な測定器に対応可能な様々なparameterクラスを提供しています。\n",
    "\n",
    "   - `Parameter` : 与えられた時刻における単一の値を表します (例. 電圧, 電流値)。詳細は[example parameter notebook](Parameters/Parameters.ipynb)より。\n",
    "   \n",
    "   - `ParameterWithSetpoints`: 一度に返される、すべて同じ型からなる値の配列を返します(例. 電圧対時間の波形)。詳細は[parameter with setpoint notebook](Parameters/Simple-Example-of-ParameterWithSetpoints.ipynb)より。\n",
    "\n",
    "   - `DelegateParameter`: 他のparameterをプロキシするためのクラス。詳細は[parameter API](../api/parameters/index.rst)より。Delegated parameterでは、ソースとなるパラメーターとは異なるラベルや単位を利用できます。\n",
    "\n",
    "これらのビルト・イン・パラメータークラスは、典型的には計測器通信のラッパー（※訳者註: 直接の取り扱いが複雑あるいは困難になる昨日を簡便な形でユーザーに提供するもの）として用いられます。 ユーザー向けの`set`メソッドと`get`メソッドは、計測器向けの`set_raw`メソッドと`get_raw`メソッドを呼び出します。これらのパラメーターのより詳細な例は、[notebook on Parameters](index.rst#parameters)で説明されています。 "
   ]
  },
  {
   "cell_type": "markdown",
   "metadata": {},
   "source": [
    "### パラメーターの設定・取得の例\n",
    "\n",
    "ほとんどの場合、設定可能なパラメータは、単純な関数の引数としてその値を受け取ります。この例では、シグナルジェネレーター`dac`の`ch1 パラメーターに 1.1 という値を設定しています："
   ]
  },
  {
   "cell_type": "code",
   "execution_count": 4,
   "metadata": {},
   "outputs": [],
   "source": [
    "dac.ch1(1.1)"
   ]
  },
  {
   "cell_type": "markdown",
   "metadata": {},
   "source": [
    "同様に、値を取得可能なパラメーターは、多くの場合、簡単な関数が呼び出されることを通してその値が返されます。この例では、デジタルマルチメーター`dmm`の値を以下のように読み取っています:"
   ]
  },
  {
   "cell_type": "code",
   "execution_count": 5,
   "metadata": {},
   "outputs": [
    {
     "data": {
      "text/plain": [
       "3.990052278971744"
      ]
     },
     "execution_count": 5,
     "metadata": {},
     "output_type": "execute_result"
    }
   ],
   "source": [
    "dmm.v1()"
   ]
  },
  {
   "cell_type": "markdown",
   "metadata": {},
   "source": [
    "## Stations  \n",
    "\n",
    "ステーションとは、実験に使われているすべてのインストゥルメントやデバイスを集めたものです。前述の通り、ステーションは`Instruments`や`Parameters`及びその他の要素を追加できるバケット（集合体）と見なすことができます。\n",
    "これらの用語はそれぞれ QCoDeS では明確な意味を持ち、後のセクションで説明します。ステーションが適切に設定されると、そのインスタンスを使ってこれらの要素(`Instruments`や`Parameters`など)にアクセスすることができます。詳細については[Station](Station.ipynb)を参照してください。\n",
    "\n",
    "前に構成したインストゥルメント(dac, dmmなど)を組織化するために、まず以下のようにステーションのインスタンスを宣言します:"
   ]
  },
  {
   "cell_type": "code",
   "execution_count": 6,
   "metadata": {},
   "outputs": [],
   "source": [
    "station = qc.Station()"
   ]
  },
  {
   "cell_type": "markdown",
   "metadata": {},
   "source": [
    "### ステーションへのインストゥルメントの追加\n",
    "\n",
    "実験中用いられるすべてのインストゥルメントは、`Station`に追加されるのが望ましいです。  \n",
    "\n",
    "ここでは、`dac`及び`dmm`を、`add_component()`メソッドを用いてステーションに追加します: "
   ]
  },
  {
   "cell_type": "code",
   "execution_count": 7,
   "metadata": {},
   "outputs": [
    {
     "data": {
      "text/plain": [
       "'dmm'"
      ]
     },
     "execution_count": 7,
     "metadata": {},
     "output_type": "execute_result"
    }
   ],
   "source": [
    "station.add_component(dac)\n",
    "station.add_component(dmm)"
   ]
  },
  {
   "cell_type": "markdown",
   "metadata": {},
   "source": [
    "### ステーションの調査\n",
    "\n",
    "どのような実験でも、装置(Instrument)のセットアップを記録することは不可欠です。これを可能にするために、`Station`クラスでは`snapshot`メソッドが提供されています。このメソッドは、ステーション内の`Instruments`やその性質(`Parameters`など) を再帰的に取得します.\n",
    "\n",
    "このデータは通常、QCoDeSで実験が実行されるたびに保存されますが、ステーションの状態を調査するために、`snapshot`メソッドを使用することもできます：\n"
   ]
  },
  {
   "cell_type": "code",
   "execution_count": 8,
   "metadata": {},
   "outputs": [],
   "source": [
    "# Remove the ``_ = `` part to see the full snapshot\n",
    "_ = station.snapshot()"
   ]
  },
  {
   "cell_type": "markdown",
   "metadata": {},
   "source": [
    "これは実際には長い出力になります。このチュートリアルでは省略しますが、ネストされた辞書は、ステーションとその付属する装置（Instrument）について、人間にも機械にも読める説明を提供します：\n",
    "\n",
    "```\n",
    "{'instruments': {'dmm': {'functions': {},\n",
    "   'submodules': {},\n",
    "   '__class__': 'qcodes.instrument_drivers.mock_instruments.DummyInstrumentWithMeasurement',\n",
    "   'parameters': {'IDN': {'__class__': 'qcodes.instrument.parameter.Parameter',\n",
    "    [...]\n",
    "     'inter_delay': 0,\n",
    "     'instrument': 'qcodes.instrument_drivers.mock_instruments.DummyInstrumentWithMeasurement',\n",
    "     'instrument_name': 'dmm',\n",
    "     'unit': ''},\n",
    "    'v1': {'__class__': 'qcodes.instrument_drivers.mock_instruments.DmmExponentialParameter',\n",
    "     'full_name': 'dmm_v1',\n",
    "     'value': 5.136319425854842,\n",
    "     'raw_value': 5.136319425854842,\n",
    "     'ts': '2021-03-29 18:47:16',\n",
    "     'label': 'Gate v1',\n",
    "     'name': 'v1',\n",
    "     'post_delay': 0,\n",
    "     'vals': '<Numbers -800<=v<=400>',\n",
    "     'inter_delay': 0,\n",
    "     'instrument': 'qcodes.instrument_drivers.mock_instruments.DummyInstrumentWithMeasurement',\n",
    "     'instrument_name': 'dmm',\n",
    "     'unit': 'V'},\n",
    "     [...]\n",
    "```"
   ]
  },
  {
   "cell_type": "markdown",
   "metadata": {},
   "source": [
    "### Saving and loading configurations.\n",
    "\n",
    "測定器のインスタンス化、つまり適切なパラメータの初期値設定や、測定に関する同様の初期設定は、コードの初期化部分を構成します。一般的に、この部分は非常に長くなり、維持するのが大変になります。これらの(あるいはそれ以上の)懸念は `Station` オブジェクトの[YAML 設定ファイル](Station.ipynb#Using-Station-with-YAML-configuration-files)によって解決できます。ステーションに関する更なるオプションの詳細については[ステーションの例](Station.ipynb#Default-Station)をご覧ください。"
   ]
  },
  {
   "cell_type": "markdown",
   "metadata": {},
   "source": [
    "## Databases and experiments.\n",
    "\n",
    "`Station`が使えるようになったので、次のステップでは、データを保存するための`データベース`のセットアップをします。QCoDesでは、これを実現するためにSQLite3データベースを活用しています。\n",
    "\n",
    "### データベースの初期化または生成\n",
    "\n",
    "測定を開始する前に、まずデータベースの初期化を行います。データベースの格納場所は、QCoDesにインストールされた設定オブジェクトによって決定します。データベースは、現在使用されているQCoDeSバージョンに準拠した最新のサポートバージョンで作成されます。データベースが既に存在し、QCoDeSのアップグレードが行われている場合、そのデータベースは引き続き使用することができ、最初の接続時に自動的に最新バージョンにアップグレードされます。\n",
    "\n",
    "データベースの特定の場所への初期化（または作成）は、以下の静的関数によって実現されます:"
   ]
  },
  {
   "cell_type": "code",
   "execution_count": 9,
   "metadata": {},
   "outputs": [],
   "source": [
    "initialise_or_create_database_at(\"~/experiments_for_15_mins.db\")"
   ]
  },
  {
   "cell_type": "markdown",
   "metadata": {},
   "source": [
    "デフォルトでは、QCoDesがサポートするアクティブなデータベースは1つのみです。現在のデータベースの格納場所は、設定データ(例: qcodes.config)内に保存されています。 "
   ]
  },
  {
   "cell_type": "code",
   "execution_count": 10,
   "metadata": {},
   "outputs": [
    {
     "data": {
      "text/plain": [
       "'~/experiments_for_15_mins.db'"
      ]
     },
     "execution_count": 10,
     "metadata": {},
     "output_type": "execute_result"
    }
   ],
   "source": [
    "qc.config.core.db_location"
   ]
  },
  {
   "cell_type": "markdown",
   "metadata": {},
   "source": [
    "### experimentオブジェクトのロードまたは作成\n",
    "\n",
    "データベースを初期化したので、今度は`Experiment`オブジェクトを作成しましょう。このオブジェクトには実験やサンプルの名前が含まれ、測定中に入手したデータのマネージャーとして機能します。`load_or_create_experiment`関数は、既存の同名の実験(`Experiment`オブジェクト)を呼び出します。そのような実験が見つからなかった場合、新しい`Experiment`メソッドが作成されます。\n",
    "\n",
    "以下の例では、`tutorial_exp`という名称の実験を呼び出しています:\n"
   ]
  },
  {
   "cell_type": "code",
   "execution_count": 11,
   "metadata": {
    "scrolled": true
   },
   "outputs": [],
   "source": [
    "tutorial_exp = load_or_create_experiment(\n",
    "    experiment_name=\"tutorial_exp\",\n",
    "    sample_name=\"synthetic data\"\n",
    ")"
   ]
  },
  {
   "cell_type": "markdown",
   "metadata": {},
   "source": [
    "`experiment`オブジェクトのためのデータベースのpathは、QCoDeSの設定(configuration)内で定義されています. はじめに、`Experiment`はそのパス内にあるデータベース(あるいは、同一パス内にデータベースがなければ新規に作成されたデータベース)をロードし、その後そのデータベース内に、ここで作成された実験を保存します. この名前とサンプル名を持つ実験がすでに存在する場合、これが残りのセッションのデフォルト実験として設定されます。実験と一緒にデータベースをロードしたり作成したりすることはユーザーに優しい機能ではありますが、先に示したように、データベースを初期化することを推奨します。これによって、実験とデータベースをより制御して測定することができ、データ管理における予期せぬ結果を避けることができます。\n",
    "\n",
    "上記の実験（experiment）のロードや作成の方法は、最も汎用性の高いものです。しかし、データベースに関するガイドで述べられているように、他のオプションも存在します。"
   ]
  },
  {
   "cell_type": "markdown",
   "metadata": {},
   "source": [
    "## Measurement Context Manager\n",
    "\n",
    "`Measurement` オブジェクトは QCoDeS 内の計測器からデータを取得するために使用されるものであり、`experiment`（データを処理するためのオブジェクト）と`station`（計測器を制御するためのオブジェクト）の両方を指定してインスタンス化されます。これらの引数がない場合、最新の実験とステーションがデフォルトとして使用されます。キーワード引数 `name` には任意の文字列を指定することができます。"
   ]
  },
  {
   "cell_type": "code",
   "execution_count": 12,
   "metadata": {},
   "outputs": [],
   "source": [
    "context_meas = Measurement(exp=tutorial_exp, station=station, name='context_example')"
   ]
  },
  {
   "cell_type": "markdown",
   "metadata": {},
   "source": [
    "experimentを生成したりロードしたりする前に `measurement` をインスタンス化することは可能ですが、これはお勧めできません。\n",
    "\n",
    "1. 初期化された `database` に `experiment` が含まれていない場合、インスタンス化でエラーが発生し、作業が中断されます。\n",
    "2. データベースに既に `experiment` が含まれている場合、インスタンス化された `measurement` はエラーメッセージや警告を表示することなく、データベース内の最新の `experiment` に追加されます。これはデータ管理の不備につながります。\n"
   ]
  },
  {
   "cell_type": "markdown",
   "metadata": {},
   "source": [
    "### 測定パラメーターの登録\n",
    "\n",
    "QCoDeSはパラメータ間の関係（パラメーター `y` は `x` に依存する）を保存する機能を備えています。この機能により、測定の意図を実験記録に明確に記録することができます。加えて、QCoDeS を使用してデータをプロットする際、パラメーターの依存関係は座標軸の定義に使用されます。測定されるパラメーターは、まず `measurement` で登録されます。従属するパラメーター（つまり y(x)）を登録するときに、独立パラメータは設定値として宣言されます。結果として、独立パラメーターは、対応する従属パラメーターよりも前に登録されなければなりません。\n",
    "\n",
    "\n",
    "以下の例では、``dac.ch1``は独立パラメーターです。よって、``dmm.v1``は``dac.ch1``のセットポイントとして登録されています。 "
   ]
  },
  {
   "cell_type": "code",
   "execution_count": 13,
   "metadata": {},
   "outputs": [
    {
     "data": {
      "text/plain": [
       "<qcodes.dataset.measurements.Measurement at 0x12c4ea7e0>"
      ]
     },
     "execution_count": 13,
     "metadata": {},
     "output_type": "execute_result"
    }
   ],
   "source": [
    "# Register the independent parameter...\n",
    "context_meas.register_parameter(dac.ch1)\n",
    "# ...then register the dependent parameter\n",
    "context_meas.register_parameter(dmm.v1, setpoints=(dac.ch1,))"
   ]
  },
  {
   "cell_type": "markdown",
   "metadata": {},
   "source": [
    "### 測定ループ処理の一例\n",
    "\n",
    "QCoDeSのmeasurementモジュールは、測定するパラメーターを登録し、結果を保存するためのコンテキスト・マネージャーを提供します。コンテキスト・マネージャー内では、測定されたデータはバックグラウンド・プロセスとして定期的にデータベースに保存されます。\n",
    "\n",
    "簡単な計測を行うには、コンテキスト・マネージャー内に簡単なループを作成し、計測器を制御し、データを取得し、結果を保存します。\n",
    "\n",
    "> 以下は、QCodesにおいてデータを取得するためのよりユーザーによる設定が可能なアプローチです。より多くの具体例や詳細については、 [Performing measurements using QCoDeS parameters and DataSet example](./DataSet/Performing-measurements-using-qcodes-parameters-and-dataset.ipynb)を御覧ください。\n"
   ]
  },
  {
   "cell_type": "code",
   "execution_count": 14,
   "metadata": {},
   "outputs": [
    {
     "name": "stdout",
     "output_type": "stream",
     "text": [
      "Starting experimental run with id: 1. \n"
     ]
    }
   ],
   "source": [
    "# Time for periodic background database writes\n",
    "context_meas.write_period = 2\n",
    "\n",
    "with context_meas.run() as datasaver:\n",
    "    for set_v in np.linspace(0, 25, 10):\n",
    "        dac.ch1.set(set_v)\n",
    "        get_v = dmm.v1.get()\n",
    "        datasaver.add_result((dac.ch1, set_v),\n",
    "                             (dmm.v1, get_v))\n",
    "\n",
    "    # Convenient to have for plotting and data access\n",
    "    dataset = datasaver.dataset"
   ]
  },
  {
   "cell_type": "markdown",
   "metadata": {},
   "source": [
    "`meas.run`メソッドはデータの取得と保存を制御するためのコンテキストマネージャーを返します。コンテキストに入ると `DataSaver` オブジェクトが得られるので、これを `datasaver` 変数に格納します。単純なループ構造を使って、計測器の `set` メソッドと `get` メソッドを使って、それぞれ計測器の制御とデータの取得を行っています。次に、``add_result`` メソッドを使用して、すべてのデータポイントのサイズを検証し、書き込みキャッシュに断続的に格納します。測定の書き込み期間ごとに、このキャッシュのデータはバックグラウンドでデータベースに排出されます。"
   ]
  },
  {
   "cell_type": "markdown",
   "metadata": {},
   "source": [
    "## Using the doNd multi-dimensional measurement utility \n",
    "\n",
    "Qcodesには、[optimized data handling](DataSet/Using_doNd_functions_in_comparison_to_Measurement_context_manager_for_performing_measurements.ipynb)で多次元データセットを生成する関数も含まれています。このうち、`dond`（do n-dimentional）メソッドは、多次元データの収集を容易にします。同様の最適化はmesurementのコンテキストを使用して行うこともできますが（[measuring with shaped data](DataSet/Performing-measurements-using-qcodes-parameters-and-dataset.ipynb#Specifying-shape-of-measurement)を参照）、このアプローチはコードのセットアップを簡易化し、可読性を向上します。\n",
    "\n",
    "> これは、多次元データをQCoDeSで得るためのよりユーザーフレンドリーな方法です。\n",
    "\n",
    "まずはじめに、各独立パラメーターについてのスイープ処理によって定義した測定をセットします。我々のケースでは、``dac``のふたつのチャンネルを使用しています:"
   ]
  },
  {
   "cell_type": "code",
   "execution_count": 15,
   "metadata": {},
   "outputs": [],
   "source": [
    "# Setting up a doNd measurement\n",
    "sweep_1 = LinSweep(dac.ch1, -1, 1, 20, 0.01)\n",
    "sweep_2 = LinSweep(dac.ch2, -1, 1, 20, 0.01)"
   ]
  },
  {
   "cell_type": "markdown",
   "metadata": {},
   "source": [
    "\n",
    "`dac.ch1`及び`dac.ch2`の線形掃引は、掃引の起終点(-1 to 1 V)、ステップ数(20)並びに各ステップ間のdelay time(0.01 s)によって定義されます。このdelay timeは、実際の測定機器が掃引の各ステップ間において平衡に到ることができるように使われます。QCoDeSには、様々なサンプリング方式を可能にするために、[複数のタイプのスイープ方式が含まれています](DataSet/Using_doNd_functions_in_comparison_to_Measurement_context_manager_for_performing_measurements.ipynb)。\n",
    "\n",
    "> `dond` を使用する場合、パラメータの登録は行いません。`dond` では、あらゆる依存パラメータがすべてのスイープパラメータに依存します。"
   ]
  },
  {
   "cell_type": "code",
   "execution_count": 16,
   "metadata": {},
   "outputs": [
    {
     "name": "stdout",
     "output_type": "stream",
     "text": [
      "Starting experimental run with id: 2. Using 'qcodes.dataset.dond'\n"
     ]
    },
    {
     "data": {
      "application/vnd.jupyter.widget-view+json": {
       "model_id": "1796e1c6c0b44bbfa07455ecb6476427",
       "version_major": 2,
       "version_minor": 0
      },
      "text/plain": [
       "  0%|          | 0/400 [00:00<?, ?it/s]"
      ]
     },
     "metadata": {},
     "output_type": "display_data"
    },
    {
     "data": {
      "text/plain": [
       "(dond_example #2@/Users/ezmario/experiments_for_15_mins.db\n",
       " ---------------------------------------------------------\n",
       " dac_ch1 - numeric\n",
       " dac_ch2 - numeric\n",
       " dmm_v1 - numeric\n",
       " dmm_v2 - numeric,\n",
       " (None,),\n",
       " (None,))"
      ]
     },
     "execution_count": 16,
     "metadata": {},
     "output_type": "execute_result"
    }
   ],
   "source": [
    "dond(\n",
    "    sweep_1,                          # 1st independent parameter\n",
    "    sweep_2,                          # 2nd independent parameter\n",
    "    dmm.v1,                           # 1st dependent parameter\n",
    "    dmm.v2,                           # 2nd dependent parameter\n",
    "    measurement_name=\"dond_example\",  # Set the measurement name\n",
    "    exp=tutorial_exp,                 # Set the experiment to save data to.\n",
    "    show_progress=True                # Optional progress bar\n",
    ")"
   ]
  },
  {
   "cell_type": "markdown",
   "metadata": {},
   "source": [
    "`dond`関数は、多くのオプション（プロット、データベース書き込み期間、マルチスレッドなど）を備えており、[example notebooks](DataSet/Using_doNd_functions_in_comparison_to_Measurement_context_manager_for_performing_measurements.ipynb#Handling-plot,-experiment,-and-measurement_name-with-doNd)でさらに詳しく説明しています。単純な計測の場合、[do1d](DataSet/Using_doNd_functions_in_comparison_to_Measurement_context_manager_for_performing_measurements.ipynb#do1d)と[do2d](DataSet/Using_doNd_functions_in_comparison_to_Measurement_context_manager_for_performing_measurements.ipynb#do2d)は、1次元と2次元の計測で同様の機能を持つ、よりシンプルなインターフェースを提供します。"
   ]
  },
  {
   "cell_type": "markdown",
   "metadata": {},
   "source": [
    "## Exploring datasets and databases\n",
    "\n",
    "このセクションでは、`DataSets` を利用して作業するための方法と関数について詳しく説明します。QCoDeSでは、すべての測定結果は一般的に`DataSet`オブジェクトとしてパッケージ化され、データベースに格納されます。QCoDeSを実行するためには必須ではありませんが、新しいデータ解析方法を開発するユーザーをサポートするために[detailed walktrough notebook](DataSet/DataSet-class-walkthrough.ipynb)を提供しています。\n"
   ]
  },
  {
   "cell_type": "markdown",
   "metadata": {},
   "source": [
    "### データベース内のすべてのdatasetsの列挙"
   ]
  },
  {
   "cell_type": "markdown",
   "metadata": {},
   "source": [
    "我々のデータを取得する最も直接的な方法は、`experiments`関数を使用することです; これにより、現在初期化されている`database`が呼び出され、内部に含まれている`experiments`と`datasets`が表示されます。"
   ]
  },
  {
   "cell_type": "code",
   "execution_count": 17,
   "metadata": {},
   "outputs": [
    {
     "data": {
      "text/plain": [
       "[tutorial_exp#synthetic data#1@/Users/ezmario/experiments_for_15_mins.db\n",
       " -----------------------------------------------------------------------\n",
       " 1-context_example-1-dac_ch1,dmm_v1-10\n",
       " 2-dond_example-2-dac_ch1,dac_ch2,dmm_v1,dmm_v2-800]"
      ]
     },
     "execution_count": 17,
     "metadata": {},
     "output_type": "execute_result"
    }
   ],
   "source": [
    "experiments()"
   ]
  },
  {
   "cell_type": "markdown",
   "metadata": {},
   "source": [
    "この例のデータベースにはわずかな実験しか含まれていませんが、ナノエレクトロニクスデバイスで測定を行うと、この数は大幅に増加する可能性があります。\n",
    "\n",
    "実際のデータベースには、多くの実験が含まれ、それぞれの実験には多くのデータセットがあります。しばしば、特定の実験からデータセットを読み込んでさらなる分析を行いたいことがあります。ここでは、データベースから既に測定されたデータセットを見つけて取得するさまざまな方法を探ってみましょう。"
   ]
  },
  {
   "cell_type": "markdown",
   "metadata": {},
   "source": [
    "### 単一の実験に含まれるすぺてのdatasetsの列挙\n",
    "\n",
    "experimentは、`measurements`オブジェクトによって作られた`datasets`も含んでいます。`data_sets`メソッドを使用することで、これらのデータセット、記録されたパラメータ、および各パラメータのデータの種類を出力できます。"
   ]
  },
  {
   "cell_type": "code",
   "execution_count": 18,
   "metadata": {},
   "outputs": [
    {
     "data": {
      "text/plain": [
       "[context_example #1@/Users/ezmario/experiments_for_15_mins.db\n",
       " ------------------------------------------------------------\n",
       " dac_ch1 - numeric\n",
       " dmm_v1 - numeric,\n",
       " dond_example #2@/Users/ezmario/experiments_for_15_mins.db\n",
       " ---------------------------------------------------------\n",
       " dac_ch1 - numeric\n",
       " dac_ch2 - numeric\n",
       " dmm_v1 - numeric\n",
       " dmm_v2 - numeric]"
      ]
     },
     "execution_count": 18,
     "metadata": {},
     "output_type": "execute_result"
    }
   ],
   "source": [
    "tutorial_exp.data_sets()"
   ]
  },
  {
   "cell_type": "markdown",
   "metadata": {},
   "source": [
    "### 1つ以上の指定を使ってdatasetをロードする"
   ]
  },
  {
   "cell_type": "markdown",
   "metadata": {},
   "source": [
    "データをプロットまたは解析するためには、`datasets`を取得する必要があります。これは`experiment`から直接行うことができますが、通常はinstrument環境は分析には使用されません。さらに、別々の`experiments`からデータを比較したい場合、データセットを個別に読み込む必要があります。\n",
    "\n",
    "QCoDeSでは、`load_by_run_spec`関数を使用して簡単な基準で`datasets`を取得できます。この例では、名前とデータベースID番号によって以前の1Dおよび2Dデータセットを読み込みます。\n"
   ]
  },
  {
   "cell_type": "code",
   "execution_count": 19,
   "metadata": {},
   "outputs": [],
   "source": [
    "dataset_1d = load_by_run_spec(experiment_name='tutorial_exp', captured_run_id=1)\n",
    "dataset_2d = load_by_run_spec(experiment_name='tutorial_exp', captured_run_id=2)"
   ]
  },
  {
   "cell_type": "markdown",
   "metadata": {},
   "source": [
    "引数は任意ですが、指定された仕様に一致するrunが複数見つかった場合、関数呼び出しはエラーを発生する。このようなエラーが発生した場合、トレースバックにはrunの仕様も含まれます。データ抽出のための詳細な検索基準の例は、この[example notebook](DataSet/Extracting-runs-from-one-DB-file-to-another.ipynb#Uniquely-identifying-and-loading-runs)に記載されています。\n"
   ]
  },
  {
   "cell_type": "markdown",
   "metadata": {},
   "source": [
    "### datasetsのプロット\n",
    "\n",
    "数値データは通常、表にしてしまうと理解しにくいので、プロットとして視覚化するのが理想です。QCoDeS には `plot_dataset` というプロット関数があり、1次元と2次元の `dataset` をきれいに可視化することができます:"
   ]
  },
  {
   "cell_type": "code",
   "execution_count": 20,
   "metadata": {},
   "outputs": [
    {
     "data": {
      "text/plain": [
       "([<Axes: title={'center': 'Run #1, Experiment tutorial_exp (synthetic data)'}, xlabel='Gate ch1 (V)', ylabel='Gate v1 (V)'>],\n",
       " [None])"
      ]
     },
     "execution_count": 20,
     "metadata": {},
     "output_type": "execute_result"
    },
    {
     "data": {
      "image/png": "[encoded data removed]",
      "text/plain": [
       "<Figure size 640x480 with 1 Axes>"
      ]
     },
     "metadata": {},
     "output_type": "display_data"
    }
   ],
   "source": [
    "# Plotting 1d dataset\n",
    "plot_dataset(dataset_1d)"
   ]
  },
  {
   "cell_type": "markdown",
   "metadata": {},
   "source": [
    "1dのデータでは、単純な折れ線グラフが生成され、依存パラメータと独立パラメータがそれぞれのX軸とY軸に設定されます。これは、(単位を提供する)`instrument`と、測定された`parameters`間の事前定義された依存関係の統合によってうまく機能します。"
   ]
  },
  {
   "cell_type": "code",
   "execution_count": 21,
   "metadata": {},
   "outputs": [
    {
     "data": {
      "text/plain": [
       "([<Axes: title={'center': 'Run #2, Experiment tutorial_exp (synthetic data)'}, xlabel='Gate ch1 (V)', ylabel='Gate ch2 (V)'>,\n",
       "  <Axes: title={'center': 'Run #2, Experiment tutorial_exp (synthetic data)'}, xlabel='Gate ch1 (V)', ylabel='Gate ch2 (V)'>],\n",
       " [<matplotlib.colorbar.Colorbar at 0x12c75b8c0>,\n",
       "  <matplotlib.colorbar.Colorbar at 0x12c8a3d40>])"
      ]
     },
     "execution_count": 21,
     "metadata": {},
     "output_type": "execute_result"
    },
    {
     "data": {
      "image/png": "[encoded data removed]",
      "text/plain": [
       "<Figure size 640x480 with 2 Axes>"
      ]
     },
     "metadata": {},
     "output_type": "display_data"
    },
    {
     "data": {
      "image/png": "[encoded data removed]",
      "text/plain": [
       "<Figure size 640x480 with 2 Axes>"
      ]
     },
     "metadata": {},
     "output_type": "display_data"
    }
   ],
   "source": [
    "# Plotting 2d dataset as heatmaps\n",
    "plot_dataset(dataset_2d)"
   ]
  },
  {
   "cell_type": "markdown",
   "metadata": {},
   "source": [
    "2次元データでは、独立パラメータをX軸とY軸に設定し、従属パラメータをカラースケールに設定したヒートマップが生成されます。1次元の場合と同様、この自動可視化は、`dond`関数に提供された定義済みの`parameters`に依存します。\n",
    "\n",
    "> QCoDeSのdatasetsをプロットするより詳細な事例については、様々なデータタイプをカバーした以下の記事が用意されています:\n",
    ">\n",
    "> - [Offline plotting tutorial](DataSet/Offline%20Plotting%20Tutorial.ipynb)\n",
    "> - [Offline plotting with categorical data](DataSet/Offline%20plotting%20with%20categorical%20data.ipynb)\n",
    "> - [Offline plotting with complex data](DataSet/Offline%20plotting%20with%20complex%20data.ipynb)"
   ]
  },
  {
   "cell_type": "markdown",
   "metadata": {},
   "source": [
    "### Plottrを用いたQCoDeS測定のライブプロッティング\n",
    "\n",
    "PlottrはQCoDeS測定のライブプロッティングをサポートし、推奨しています。これにより、進行中の測定を直接視覚化することができ、実験者の便宜を図ることができます。詳細は[How to use plottr with QCoDeS for live plotting](plotting/How-to-use-Plottr-with-QCoDeS-for-live-plotting.ipynb)ノートブックに記載されています。"
   ]
  },
  {
   "cell_type": "markdown",
   "metadata": {},
   "source": [
    "### datasetの特定のパラメーターのデータを取得\n",
    "\n",
    "ナノエレクトロニクス測定のための新しい解析手法を設計するとき、データセットで得られた個々のパラメータからデータを抽出することが有用な場合があります。`DataSet`に含まれる `get_parameter_data`メソッドを使用すると、1つのパラメーターのデータを辞書型で得ることができます。\n",
    "\n",
    "> このメソッドは、独立パラメータ（`dac_ch1` など）と従属パラメータ（`dmm_v1` など）では動作が異なることに注意してください:"
   ]
  },
  {
   "cell_type": "code",
   "execution_count": 22,
   "metadata": {},
   "outputs": [
    {
     "data": {
      "text/plain": [
       "{'dmm_v1': {'dmm_v1': array([4.96233755, 2.83914371, 1.88493966, 0.82608967, 0.54397689,\n",
       "         0.27727591, 0.16763785, 0.13458801, 0.08989949, 0.01153642]),\n",
       "  'dac_ch1': array([ 0.        ,  2.77777778,  5.55555556,  8.33333333, 11.11111111,\n",
       "         13.88888889, 16.66666667, 19.44444444, 22.22222222, 25.        ])}}"
      ]
     },
     "execution_count": 22,
     "metadata": {},
     "output_type": "execute_result"
    }
   ],
   "source": [
    "# All data for all parameters\n",
    "dataset_1d.get_parameter_data()"
   ]
  },
  {
   "cell_type": "code",
   "execution_count": 23,
   "metadata": {},
   "outputs": [
    {
     "data": {
      "text/plain": [
       "{'dac_ch1': {'dac_ch1': array([ 0.        ,  2.77777778,  5.55555556,  8.33333333, 11.11111111,\n",
       "         13.88888889, 16.66666667, 19.44444444, 22.22222222, 25.        ])}}"
      ]
     },
     "execution_count": 23,
     "metadata": {},
     "output_type": "execute_result"
    }
   ],
   "source": [
    "# Data for independent parameter\n",
    "dataset_1d.get_parameter_data('dac_ch1')"
   ]
  },
  {
   "cell_type": "code",
   "execution_count": 24,
   "metadata": {},
   "outputs": [
    {
     "data": {
      "text/plain": [
       "{'dmm_v1': {'dmm_v1': array([4.96233755, 2.83914371, 1.88493966, 0.82608967, 0.54397689,\n",
       "         0.27727591, 0.16763785, 0.13458801, 0.08989949, 0.01153642]),\n",
       "  'dac_ch1': array([ 0.        ,  2.77777778,  5.55555556,  8.33333333, 11.11111111,\n",
       "         13.88888889, 16.66666667, 19.44444444, 22.22222222, 25.        ])}}"
      ]
     },
     "execution_count": 24,
     "metadata": {},
     "output_type": "execute_result"
    }
   ],
   "source": [
    "# Data for dependent parameter\n",
    "dataset_1d.get_parameter_data('dmm_v1')"
   ]
  },
  {
   "cell_type": "markdown",
   "metadata": {},
   "source": [
    "`get_parameter_data`メソッドに関するより詳細な情報については[exporting data section of the performing measurements using QCoDeS parameters and dataset](DataSet/Performing-measurements-using-qcodes-parameters-and-dataset.ipynb#Accessing-and-exporting-the-measured-data)および[Accessing data in DataSet notebook](DataSet/Accessing-data-in-DataSet.ipynb)を参照してください。"
   ]
  },
  {
   "cell_type": "markdown",
   "metadata": {},
   "source": [
    "### pandas dataframeへのデータのエクスポート\n",
    "\n",
    "同様に、QCoDeS データベース内に保存されたデータは、分析のために pandas データフレームとしてエクスポートすることができます。これは `DataSet` に含まれる `to_pandas_dataframe` メソッドによって実現されます。"
   ]
  },
  {
   "cell_type": "code",
   "execution_count": 25,
   "metadata": {},
   "outputs": [
    {
     "data": {
      "text/html": [
       "<div>\n",
       "<style scoped>\n",
       "    .dataframe tbody tr th:only-of-type {\n",
       "        vertical-align: middle;\n",
       "    }\n",
       "\n",
       "    .dataframe tbody tr th {\n",
       "        vertical-align: top;\n",
       "    }\n",
       "\n",
       "    .dataframe thead th {\n",
       "        text-align: right;\n",
       "    }\n",
       "</style>\n",
       "<table border=\"1\" class=\"dataframe\">\n",
       "  <thead>\n",
       "    <tr style=\"text-align: right;\">\n",
       "      <th></th>\n",
       "      <th>dmm_v1</th>\n",
       "    </tr>\n",
       "    <tr>\n",
       "      <th>dac_ch1</th>\n",
       "      <th></th>\n",
       "    </tr>\n",
       "  </thead>\n",
       "  <tbody>\n",
       "    <tr>\n",
       "      <th>0.000000</th>\n",
       "      <td>4.962338</td>\n",
       "    </tr>\n",
       "    <tr>\n",
       "      <th>2.777778</th>\n",
       "      <td>2.839144</td>\n",
       "    </tr>\n",
       "    <tr>\n",
       "      <th>5.555556</th>\n",
       "      <td>1.884940</td>\n",
       "    </tr>\n",
       "    <tr>\n",
       "      <th>8.333333</th>\n",
       "      <td>0.826090</td>\n",
       "    </tr>\n",
       "    <tr>\n",
       "      <th>11.111111</th>\n",
       "      <td>0.543977</td>\n",
       "    </tr>\n",
       "  </tbody>\n",
       "</table>\n",
       "</div>"
      ],
      "text/plain": [
       "             dmm_v1\n",
       "dac_ch1            \n",
       "0.000000   4.962338\n",
       "2.777778   2.839144\n",
       "5.555556   1.884940\n",
       "8.333333   0.826090\n",
       "11.111111  0.543977"
      ]
     },
     "execution_count": 25,
     "metadata": {},
     "output_type": "execute_result"
    }
   ],
   "source": [
    "df = dataset_1d.to_pandas_dataframe()\n",
    "df.head()"
   ]
  },
  {
   "cell_type": "markdown",
   "metadata": {},
   "source": [
    "### xarrayへのデータのエクスポート"
   ]
  },
  {
   "cell_type": "markdown",
   "metadata": {},
   "source": [
    "QCoDeS の `dataset` 内に保存されているデータを `xarray.DataSet` にエクスポートすることも可能です。これは次のようにして行うことができます:"
   ]
  },
  {
   "cell_type": "code",
   "execution_count": 26,
   "metadata": {},
   "outputs": [
    {
     "data": {
      "text/html": [
       "<div><svg style=\"position: absolute; width: 0; height: 0; overflow: hidden\">\n",
       "<defs>\n",
       "<symbol id=\"icon-database\" viewBox=\"0 0 32 32\">\n",
       "<path d=\"M16 0c-8.837 0-16 2.239-16 5v4c0 2.761 7.163 5 16 5s16-2.239 16-5v-4c0-2.761-7.163-5-16-5z\"></path>\n",
       "<path d=\"M16 17c-8.837 0-16-2.239-16-5v6c0 2.761 7.163 5 16 5s16-2.239 16-5v-6c0 2.761-7.163 5-16 5z\"></path>\n",
       "<path d=\"M16 26c-8.837 0-16-2.239-16-5v6c0 2.761 7.163 5 16 5s16-2.239 16-5v-6c0 2.761-7.163 5-16 5z\"></path>\n",
       "</symbol>\n",
       "<symbol id=\"icon-file-text2\" viewBox=\"0 0 32 32\">\n",
       "<path d=\"M28.681 7.159c-0.694-0.947-1.662-2.053-2.724-3.116s-2.169-2.030-3.116-2.724c-1.612-1.182-2.393-1.319-2.841-1.319h-15.5c-1.378 0-2.5 1.121-2.5 2.5v27c0 1.378 1.122 2.5 2.5 2.5h23c1.378 0 2.5-1.122 2.5-2.5v-19.5c0-0.448-0.137-1.23-1.319-2.841zM24.543 5.457c0.959 0.959 1.712 1.825 2.268 2.543h-4.811v-4.811c0.718 0.556 1.584 1.309 2.543 2.268zM28 29.5c0 0.271-0.229 0.5-0.5 0.5h-23c-0.271 0-0.5-0.229-0.5-0.5v-27c0-0.271 0.229-0.5 0.5-0.5 0 0 15.499-0 15.5 0v7c0 0.552 0.448 1 1 1h7v19.5z\"></path>\n",
       "<path d=\"M23 26h-14c-0.552 0-1-0.448-1-1s0.448-1 1-1h14c0.552 0 1 0.448 1 1s-0.448 1-1 1z\"></path>\n",
       "<path d=\"M23 22h-14c-0.552 0-1-0.448-1-1s0.448-1 1-1h14c0.552 0 1 0.448 1 1s-0.448 1-1 1z\"></path>\n",
       "<path d=\"M23 18h-14c-0.552 0-1-0.448-1-1s0.448-1 1-1h14c0.552 0 1 0.448 1 1s-0.448 1-1 1z\"></path>\n",
       "</symbol>\n",
       "</defs>\n",
       "</svg>\n",
       "<style>/* CSS stylesheet for displaying xarray objects in jupyterlab.\n",
       " *\n",
       " */\n",
       "\n",
       ":root {\n",
       "  --xr-font-color0: var(--jp-content-font-color0, rgba(0, 0, 0, 1));\n",
       "  --xr-font-color2: var(--jp-content-font-color2, rgba(0, 0, 0, 0.54));\n",
       "  --xr-font-color3: var(--jp-content-font-color3, rgba(0, 0, 0, 0.38));\n",
       "  --xr-border-color: var(--jp-border-color2, #e0e0e0);\n",
       "  --xr-disabled-color: var(--jp-layout-color3, #bdbdbd);\n",
       "  --xr-background-color: var(--jp-layout-color0, white);\n",
       "  --xr-background-color-row-even: var(--jp-layout-color1, white);\n",
       "  --xr-background-color-row-odd: var(--jp-layout-color2, #eeeeee);\n",
       "}\n",
       "\n",
       "html[theme=dark],\n",
       "body[data-theme=dark],\n",
       "body.vscode-dark {\n",
       "  --xr-font-color0: rgba(255, 255, 255, 1);\n",
       "  --xr-font-color2: rgba(255, 255, 255, 0.54);\n",
       "  --xr-font-color3: rgba(255, 255, 255, 0.38);\n",
       "  --xr-border-color: #1F1F1F;\n",
       "  --xr-disabled-color: #515151;\n",
       "  --xr-background-color: #111111;\n",
       "  --xr-background-color-row-even: #111111;\n",
       "  --xr-background-color-row-odd: #313131;\n",
       "}\n",
       "\n",
       ".xr-wrap {\n",
       "  display: block !important;\n",
       "  min-width: 300px;\n",
       "  max-width: 700px;\n",
       "}\n",
       "\n",
       ".xr-text-repr-fallback {\n",
       "  /* fallback to plain text repr when CSS is not injected (untrusted notebook) */\n",
       "  display: none;\n",
       "}\n",
       "\n",
       ".xr-header {\n",
       "  padding-top: 6px;\n",
       "  padding-bottom: 6px;\n",
       "  margin-bottom: 4px;\n",
       "  border-bottom: solid 1px var(--xr-border-color);\n",
       "}\n",
       "\n",
       ".xr-header > div,\n",
       ".xr-header > ul {\n",
       "  display: inline;\n",
       "  margin-top: 0;\n",
       "  margin-bottom: 0;\n",
       "}\n",
       "\n",
       ".xr-obj-type,\n",
       ".xr-array-name {\n",
       "  margin-left: 2px;\n",
       "  margin-right: 10px;\n",
       "}\n",
       "\n",
       ".xr-obj-type {\n",
       "  color: var(--xr-font-color2);\n",
       "}\n",
       "\n",
       ".xr-sections {\n",
       "  padding-left: 0 !important;\n",
       "  display: grid;\n",
       "  grid-template-columns: 150px auto auto 1fr 20px 20px;\n",
       "}\n",
       "\n",
       ".xr-section-item {\n",
       "  display: contents;\n",
       "}\n",
       "\n",
       ".xr-section-item input {\n",
       "  display: none;\n",
       "}\n",
       "\n",
       ".xr-section-item input + label {\n",
       "  color: var(--xr-disabled-color);\n",
       "}\n",
       "\n",
       ".xr-section-item input:enabled + label {\n",
       "  cursor: pointer;\n",
       "  color: var(--xr-font-color2);\n",
       "}\n",
       "\n",
       ".xr-section-item input:enabled + label:hover {\n",
       "  color: var(--xr-font-color0);\n",
       "}\n",
       "\n",
       ".xr-section-summary {\n",
       "  grid-column: 1;\n",
       "  color: var(--xr-font-color2);\n",
       "  font-weight: 500;\n",
       "}\n",
       "\n",
       ".xr-section-summary > span {\n",
       "  display: inline-block;\n",
       "  padding-left: 0.5em;\n",
       "}\n",
       "\n",
       ".xr-section-summary-in:disabled + label {\n",
       "  color: var(--xr-font-color2);\n",
       "}\n",
       "\n",
       ".xr-section-summary-in + label:before {\n",
       "  display: inline-block;\n",
       "  content: '►';\n",
       "  font-size: 11px;\n",
       "  width: 15px;\n",
       "  text-align: center;\n",
       "}\n",
       "\n",
       ".xr-section-summary-in:disabled + label:before {\n",
       "  color: var(--xr-disabled-color);\n",
       "}\n",
       "\n",
       ".xr-section-summary-in:checked + label:before {\n",
       "  content: '▼';\n",
       "}\n",
       "\n",
       ".xr-section-summary-in:checked + label > span {\n",
       "  display: none;\n",
       "}\n",
       "\n",
       ".xr-section-summary,\n",
       ".xr-section-inline-details {\n",
       "  padding-top: 4px;\n",
       "  padding-bottom: 4px;\n",
       "}\n",
       "\n",
       ".xr-section-inline-details {\n",
       "  grid-column: 2 / -1;\n",
       "}\n",
       "\n",
       ".xr-section-details {\n",
       "  display: none;\n",
       "  grid-column: 1 / -1;\n",
       "  margin-bottom: 5px;\n",
       "}\n",
       "\n",
       ".xr-section-summary-in:checked ~ .xr-section-details {\n",
       "  display: contents;\n",
       "}\n",
       "\n",
       ".xr-array-wrap {\n",
       "  grid-column: 1 / -1;\n",
       "  display: grid;\n",
       "  grid-template-columns: 20px auto;\n",
       "}\n",
       "\n",
       ".xr-array-wrap > label {\n",
       "  grid-column: 1;\n",
       "  vertical-align: top;\n",
       "}\n",
       "\n",
       ".xr-preview {\n",
       "  color: var(--xr-font-color3);\n",
       "}\n",
       "\n",
       ".xr-array-preview,\n",
       ".xr-array-data {\n",
       "  padding: 0 5px !important;\n",
       "  grid-column: 2;\n",
       "}\n",
       "\n",
       ".xr-array-data,\n",
       ".xr-array-in:checked ~ .xr-array-preview {\n",
       "  display: none;\n",
       "}\n",
       "\n",
       ".xr-array-in:checked ~ .xr-array-data,\n",
       ".xr-array-preview {\n",
       "  display: inline-block;\n",
       "}\n",
       "\n",
       ".xr-dim-list {\n",
       "  display: inline-block !important;\n",
       "  list-style: none;\n",
       "  padding: 0 !important;\n",
       "  margin: 0;\n",
       "}\n",
       "\n",
       ".xr-dim-list li {\n",
       "  display: inline-block;\n",
       "  padding: 0;\n",
       "  margin: 0;\n",
       "}\n",
       "\n",
       ".xr-dim-list:before {\n",
       "  content: '(';\n",
       "}\n",
       "\n",
       ".xr-dim-list:after {\n",
       "  content: ')';\n",
       "}\n",
       "\n",
       ".xr-dim-list li:not(:last-child):after {\n",
       "  content: ',';\n",
       "  padding-right: 5px;\n",
       "}\n",
       "\n",
       ".xr-has-index {\n",
       "  font-weight: bold;\n",
       "}\n",
       "\n",
       ".xr-var-list,\n",
       ".xr-var-item {\n",
       "  display: contents;\n",
       "}\n",
       "\n",
       ".xr-var-item > div,\n",
       ".xr-var-item label,\n",
       ".xr-var-item > .xr-var-name span {\n",
       "  background-color: var(--xr-background-color-row-even);\n",
       "  margin-bottom: 0;\n",
       "}\n",
       "\n",
       ".xr-var-item > .xr-var-name:hover span {\n",
       "  padding-right: 5px;\n",
       "}\n",
       "\n",
       ".xr-var-list > li:nth-child(odd) > div,\n",
       ".xr-var-list > li:nth-child(odd) > label,\n",
       ".xr-var-list > li:nth-child(odd) > .xr-var-name span {\n",
       "  background-color: var(--xr-background-color-row-odd);\n",
       "}\n",
       "\n",
       ".xr-var-name {\n",
       "  grid-column: 1;\n",
       "}\n",
       "\n",
       ".xr-var-dims {\n",
       "  grid-column: 2;\n",
       "}\n",
       "\n",
       ".xr-var-dtype {\n",
       "  grid-column: 3;\n",
       "  text-align: right;\n",
       "  color: var(--xr-font-color2);\n",
       "}\n",
       "\n",
       ".xr-var-preview {\n",
       "  grid-column: 4;\n",
       "}\n",
       "\n",
       ".xr-index-preview {\n",
       "  grid-column: 2 / 5;\n",
       "  color: var(--xr-font-color2);\n",
       "}\n",
       "\n",
       ".xr-var-name,\n",
       ".xr-var-dims,\n",
       ".xr-var-dtype,\n",
       ".xr-preview,\n",
       ".xr-attrs dt {\n",
       "  white-space: nowrap;\n",
       "  overflow: hidden;\n",
       "  text-overflow: ellipsis;\n",
       "  padding-right: 10px;\n",
       "}\n",
       "\n",
       ".xr-var-name:hover,\n",
       ".xr-var-dims:hover,\n",
       ".xr-var-dtype:hover,\n",
       ".xr-attrs dt:hover {\n",
       "  overflow: visible;\n",
       "  width: auto;\n",
       "  z-index: 1;\n",
       "}\n",
       "\n",
       ".xr-var-attrs,\n",
       ".xr-var-data,\n",
       ".xr-index-data {\n",
       "  display: none;\n",
       "  background-color: var(--xr-background-color) !important;\n",
       "  padding-bottom: 5px !important;\n",
       "}\n",
       "\n",
       ".xr-var-attrs-in:checked ~ .xr-var-attrs,\n",
       ".xr-var-data-in:checked ~ .xr-var-data,\n",
       ".xr-index-data-in:checked ~ .xr-index-data {\n",
       "  display: block;\n",
       "}\n",
       "\n",
       ".xr-var-data > table {\n",
       "  float: right;\n",
       "}\n",
       "\n",
       ".xr-var-name span,\n",
       ".xr-var-data,\n",
       ".xr-index-name div,\n",
       ".xr-index-data,\n",
       ".xr-attrs {\n",
       "  padding-left: 25px !important;\n",
       "}\n",
       "\n",
       ".xr-attrs,\n",
       ".xr-var-attrs,\n",
       ".xr-var-data,\n",
       ".xr-index-data {\n",
       "  grid-column: 1 / -1;\n",
       "}\n",
       "\n",
       "dl.xr-attrs {\n",
       "  padding: 0;\n",
       "  margin: 0;\n",
       "  display: grid;\n",
       "  grid-template-columns: 125px auto;\n",
       "}\n",
       "\n",
       ".xr-attrs dt,\n",
       ".xr-attrs dd {\n",
       "  padding: 0;\n",
       "  margin: 0;\n",
       "  float: left;\n",
       "  padding-right: 10px;\n",
       "  width: auto;\n",
       "}\n",
       "\n",
       ".xr-attrs dt {\n",
       "  font-weight: normal;\n",
       "  grid-column: 1;\n",
       "}\n",
       "\n",
       ".xr-attrs dt:hover span {\n",
       "  display: inline-block;\n",
       "  background: var(--xr-background-color);\n",
       "  padding-right: 10px;\n",
       "}\n",
       "\n",
       ".xr-attrs dd {\n",
       "  grid-column: 2;\n",
       "  white-space: pre-wrap;\n",
       "  word-break: break-all;\n",
       "}\n",
       "\n",
       ".xr-icon-database,\n",
       ".xr-icon-file-text2,\n",
       ".xr-no-icon {\n",
       "  display: inline-block;\n",
       "  vertical-align: middle;\n",
       "  width: 1em;\n",
       "  height: 1.5em !important;\n",
       "  stroke-width: 0;\n",
       "  stroke: currentColor;\n",
       "  fill: currentColor;\n",
       "}\n",
       "</style><pre class='xr-text-repr-fallback'>&lt;xarray.Dataset&gt; Size: 160B\n",
       "Dimensions:  (dac_ch1: 10)\n",
       "Coordinates:\n",
       "  * dac_ch1  (dac_ch1) float64 80B 0.0 2.778 5.556 8.333 ... 19.44 22.22 25.0\n",
       "Data variables:\n",
       "    dmm_v1   (dac_ch1) float64 80B 4.962 2.839 1.885 ... 0.1346 0.0899 0.01154\n",
       "Attributes: (12/14)\n",
       "    ds_name:                  context_example\n",
       "    sample_name:              synthetic data\n",
       "    exp_name:                 tutorial_exp\n",
       "    snapshot:                 {&quot;station&quot;: {&quot;instruments&quot;: {&quot;dac&quot;: {&quot;functions...\n",
       "    guid:                     386662af-0000-0000-0000-018f29084c7f\n",
       "    run_timestamp:            2024-04-29 17:46:00\n",
       "    ...                       ...\n",
       "    captured_counter:         1\n",
       "    run_id:                   1\n",
       "    run_description:          {&quot;version&quot;: 3, &quot;interdependencies&quot;: {&quot;paramspec...\n",
       "    parent_dataset_links:     []\n",
       "    run_timestamp_raw:        1714380360.834736\n",
       "    completed_timestamp_raw:  1714380360.8378649</pre><div class='xr-wrap' style='display:none'><div class='xr-header'><div class='xr-obj-type'>xarray.Dataset</div></div><ul class='xr-sections'><li class='xr-section-item'><input id='section-fb190334-217d-46cc-80da-233f8fdb7c03' class='xr-section-summary-in' type='checkbox' disabled ><label for='section-fb190334-217d-46cc-80da-233f8fdb7c03' class='xr-section-summary'  title='Expand/collapse section'>Dimensions:</label><div class='xr-section-inline-details'><ul class='xr-dim-list'><li><span class='xr-has-index'>dac_ch1</span>: 10</li></ul></div><div class='xr-section-details'></div></li><li class='xr-section-item'><input id='section-abc1ab74-668b-40e0-93e3-ead20abd0f0f' class='xr-section-summary-in' type='checkbox'  checked><label for='section-abc1ab74-668b-40e0-93e3-ead20abd0f0f' class='xr-section-summary' >Coordinates: <span>(1)</span></label><div class='xr-section-inline-details'></div><div class='xr-section-details'><ul class='xr-var-list'><li class='xr-var-item'><div class='xr-var-name'><span class='xr-has-index'>dac_ch1</span></div><div class='xr-var-dims'>(dac_ch1)</div><div class='xr-var-dtype'>float64</div><div class='xr-var-preview xr-preview'>0.0 2.778 5.556 ... 22.22 25.0</div><input id='attrs-2782220e-6a23-4ac1-a9c1-b80181366e9b' class='xr-var-attrs-in' type='checkbox' ><label for='attrs-2782220e-6a23-4ac1-a9c1-b80181366e9b' title='Show/Hide attributes'><svg class='icon xr-icon-file-text2'><use xlink:href='#icon-file-text2'></use></svg></label><input id='data-1bffc592-5bfb-41e7-9189-52ae7eedf8ab' class='xr-var-data-in' type='checkbox'><label for='data-1bffc592-5bfb-41e7-9189-52ae7eedf8ab' title='Show/Hide data repr'><svg class='icon xr-icon-database'><use xlink:href='#icon-database'></use></svg></label><div class='xr-var-attrs'><dl class='xr-attrs'><dt><span>name :</span></dt><dd>dac_ch1</dd><dt><span>paramtype :</span></dt><dd>numeric</dd><dt><span>label :</span></dt><dd>Gate ch1</dd><dt><span>unit :</span></dt><dd>V</dd><dt><span>inferred_from :</span></dt><dd>[]</dd><dt><span>depends_on :</span></dt><dd>[]</dd><dt><span>units :</span></dt><dd>V</dd><dt><span>long_name :</span></dt><dd>Gate ch1</dd></dl></div><div class='xr-var-data'><pre>array([ 0.      ,  2.777778,  5.555556,  8.333333, 11.111111, 13.888889,\n",
       "       16.666667, 19.444444, 22.222222, 25.      ])</pre></div></li></ul></div></li><li class='xr-section-item'><input id='section-e1b2bfb6-5310-4266-9f1e-5f68f5d83958' class='xr-section-summary-in' type='checkbox'  checked><label for='section-e1b2bfb6-5310-4266-9f1e-5f68f5d83958' class='xr-section-summary' >Data variables: <span>(1)</span></label><div class='xr-section-inline-details'></div><div class='xr-section-details'><ul class='xr-var-list'><li class='xr-var-item'><div class='xr-var-name'><span>dmm_v1</span></div><div class='xr-var-dims'>(dac_ch1)</div><div class='xr-var-dtype'>float64</div><div class='xr-var-preview xr-preview'>4.962 2.839 ... 0.0899 0.01154</div><input id='attrs-22d61387-7a41-491e-9220-aa473f8473c4' class='xr-var-attrs-in' type='checkbox' ><label for='attrs-22d61387-7a41-491e-9220-aa473f8473c4' title='Show/Hide attributes'><svg class='icon xr-icon-file-text2'><use xlink:href='#icon-file-text2'></use></svg></label><input id='data-24e760d2-aea3-4c48-943b-b5642af98e97' class='xr-var-data-in' type='checkbox'><label for='data-24e760d2-aea3-4c48-943b-b5642af98e97' title='Show/Hide data repr'><svg class='icon xr-icon-database'><use xlink:href='#icon-database'></use></svg></label><div class='xr-var-attrs'><dl class='xr-attrs'><dt><span>name :</span></dt><dd>dmm_v1</dd><dt><span>paramtype :</span></dt><dd>numeric</dd><dt><span>label :</span></dt><dd>Gate v1</dd><dt><span>unit :</span></dt><dd>V</dd><dt><span>inferred_from :</span></dt><dd>[]</dd><dt><span>depends_on :</span></dt><dd>[&#x27;dac_ch1&#x27;]</dd><dt><span>units :</span></dt><dd>V</dd><dt><span>long_name :</span></dt><dd>Gate v1</dd></dl></div><div class='xr-var-data'><pre>array([4.96233755, 2.83914371, 1.88493966, 0.82608967, 0.54397689,\n",
       "       0.27727591, 0.16763785, 0.13458801, 0.08989949, 0.01153642])</pre></div></li></ul></div></li><li class='xr-section-item'><input id='section-1e074fd7-2fd7-4325-b9c1-4e247ef6585d' class='xr-section-summary-in' type='checkbox'  ><label for='section-1e074fd7-2fd7-4325-b9c1-4e247ef6585d' class='xr-section-summary' >Indexes: <span>(1)</span></label><div class='xr-section-inline-details'></div><div class='xr-section-details'><ul class='xr-var-list'><li class='xr-var-item'><div class='xr-index-name'><div>dac_ch1</div></div><div class='xr-index-preview'>PandasIndex</div><div></div><input id='index-c9bb67b8-58d1-47f3-97c4-d6ecefe7c65b' class='xr-index-data-in' type='checkbox'/><label for='index-c9bb67b8-58d1-47f3-97c4-d6ecefe7c65b' title='Show/Hide index repr'><svg class='icon xr-icon-database'><use xlink:href='#icon-database'></use></svg></label><div class='xr-index-data'><pre>PandasIndex(Index([             0.0, 2.77777777777778, 5.55555555555556, 8.33333333333333,\n",
       "       11.1111111111111, 13.8888888888889, 16.6666666666667, 19.4444444444444,\n",
       "       22.2222222222222,             25.0],\n",
       "      dtype=&#x27;float64&#x27;, name=&#x27;dac_ch1&#x27;))</pre></div></li></ul></div></li><li class='xr-section-item'><input id='section-6df0a46e-64e7-497d-86cb-34794857b044' class='xr-section-summary-in' type='checkbox'  ><label for='section-6df0a46e-64e7-497d-86cb-34794857b044' class='xr-section-summary' >Attributes: <span>(14)</span></label><div class='xr-section-inline-details'></div><div class='xr-section-details'><dl class='xr-attrs'><dt><span>ds_name :</span></dt><dd>context_example</dd><dt><span>sample_name :</span></dt><dd>synthetic data</dd><dt><span>exp_name :</span></dt><dd>tutorial_exp</dd><dt><span>snapshot :</span></dt><dd>{&quot;station&quot;: {&quot;instruments&quot;: {&quot;dac&quot;: {&quot;functions&quot;: {}, &quot;submodules&quot;: {}, &quot;parameters&quot;: {&quot;IDN&quot;: {&quot;__class__&quot;: &quot;qcodes.parameters.parameter.Parameter&quot;, &quot;full_name&quot;: &quot;dac_IDN&quot;, &quot;value&quot;: {&quot;vendor&quot;: &quot;QCoDeS&quot;, &quot;model&quot;: &quot;&lt;class &#x27;qcodes.instrument_drivers.mock_instruments.DummyInstrument&#x27;&gt;&quot;, &quot;serial&quot;: &quot;NA&quot;, &quot;firmware&quot;: &quot;NA&quot;}, &quot;raw_value&quot;: {&quot;vendor&quot;: &quot;QCoDeS&quot;, &quot;model&quot;: &quot;&lt;class &#x27;qcodes.instrument_drivers.mock_instruments.DummyInstrument&#x27;&gt;&quot;, &quot;serial&quot;: &quot;NA&quot;, &quot;firmware&quot;: &quot;NA&quot;}, &quot;ts&quot;: &quot;2024-04-29 17:46:00&quot;, &quot;post_delay&quot;: 0, &quot;vals&quot;: &quot;&lt;Anything&gt;&quot;, &quot;validators&quot;: [&quot;&lt;Anything&gt;&quot;], &quot;instrument&quot;: &quot;qcodes.instrument_drivers.mock_instruments.DummyInstrument&quot;, &quot;instrument_name&quot;: &quot;dac&quot;, &quot;name&quot;: &quot;IDN&quot;, &quot;unit&quot;: &quot;&quot;, &quot;label&quot;: &quot;IDN&quot;, &quot;inter_delay&quot;: 0}, &quot;ch1&quot;: {&quot;__class__&quot;: &quot;qcodes.parameters.parameter.Parameter&quot;, &quot;full_name&quot;: &quot;dac_ch1&quot;, &quot;value&quot;: 1.1, &quot;raw_value&quot;: 1.1, &quot;ts&quot;: &quot;2024-04-29 17:46:00&quot;, &quot;post_delay&quot;: 0, &quot;vals&quot;: &quot;&lt;Numbers -800&lt;=v&lt;=400&gt;&quot;, &quot;validators&quot;: [&quot;&lt;Numbers -800&lt;=v&lt;=400&gt;&quot;], &quot;instrument&quot;: &quot;qcodes.instrument_drivers.mock_instruments.DummyInstrument&quot;, &quot;instrument_name&quot;: &quot;dac&quot;, &quot;name&quot;: &quot;ch1&quot;, &quot;unit&quot;: &quot;V&quot;, &quot;label&quot;: &quot;Gate ch1&quot;, &quot;inter_delay&quot;: 0}, &quot;ch2&quot;: {&quot;__class__&quot;: &quot;qcodes.parameters.parameter.Parameter&quot;, &quot;full_name&quot;: &quot;dac_ch2&quot;, &quot;value&quot;: 0, &quot;raw_value&quot;: 0, &quot;ts&quot;: &quot;2024-04-29 17:46:00&quot;, &quot;post_delay&quot;: 0, &quot;vals&quot;: &quot;&lt;Numbers -800&lt;=v&lt;=400&gt;&quot;, &quot;validators&quot;: [&quot;&lt;Numbers -800&lt;=v&lt;=400&gt;&quot;], &quot;instrument&quot;: &quot;qcodes.instrument_drivers.mock_instruments.DummyInstrument&quot;, &quot;instrument_name&quot;: &quot;dac&quot;, &quot;name&quot;: &quot;ch2&quot;, &quot;unit&quot;: &quot;V&quot;, &quot;label&quot;: &quot;Gate ch2&quot;, &quot;inter_delay&quot;: 0}}, &quot;__class__&quot;: &quot;qcodes.instrument_drivers.mock_instruments.DummyInstrument&quot;, &quot;name&quot;: &quot;dac&quot;, &quot;label&quot;: &quot;dac&quot;}, &quot;dmm&quot;: {&quot;functions&quot;: {}, &quot;submodules&quot;: {}, &quot;parameters&quot;: {&quot;IDN&quot;: {&quot;__class__&quot;: &quot;qcodes.parameters.parameter.Parameter&quot;, &quot;full_name&quot;: &quot;dmm_IDN&quot;, &quot;value&quot;: {&quot;vendor&quot;: &quot;QCoDeS&quot;, &quot;model&quot;: &quot;&lt;class &#x27;qcodes.instrument_drivers.mock_instruments.DummyInstrumentWithMeasurement&#x27;&gt;&quot;, &quot;serial&quot;: &quot;NA&quot;, &quot;firmware&quot;: &quot;NA&quot;}, &quot;raw_value&quot;: {&quot;vendor&quot;: &quot;QCoDeS&quot;, &quot;model&quot;: &quot;&lt;class &#x27;qcodes.instrument_drivers.mock_instruments.DummyInstrumentWithMeasurement&#x27;&gt;&quot;, &quot;serial&quot;: &quot;NA&quot;, &quot;firmware&quot;: &quot;NA&quot;}, &quot;ts&quot;: &quot;2024-04-29 17:46:00&quot;, &quot;post_delay&quot;: 0, &quot;vals&quot;: &quot;&lt;Anything&gt;&quot;, &quot;validators&quot;: [&quot;&lt;Anything&gt;&quot;], &quot;instrument&quot;: &quot;qcodes.instrument_drivers.mock_instruments.DummyInstrumentWithMeasurement&quot;, &quot;instrument_name&quot;: &quot;dmm&quot;, &quot;name&quot;: &quot;IDN&quot;, &quot;unit&quot;: &quot;&quot;, &quot;label&quot;: &quot;IDN&quot;, &quot;inter_delay&quot;: 0}, &quot;v1&quot;: {&quot;__class__&quot;: &quot;qcodes.instrument_drivers.mock_instruments.DmmExponentialParameter&quot;, &quot;full_name&quot;: &quot;dmm_v1&quot;, &quot;value&quot;: 4.0040909525909685, &quot;raw_value&quot;: 4.0040909525909685, &quot;ts&quot;: &quot;2024-04-29 17:46:00&quot;, &quot;post_delay&quot;: 0, &quot;vals&quot;: &quot;&lt;Numbers -800&lt;=v&lt;=400&gt;&quot;, &quot;validators&quot;: [&quot;&lt;Numbers -800&lt;=v&lt;=400&gt;&quot;], &quot;instrument&quot;: &quot;qcodes.instrument_drivers.mock_instruments.DummyInstrumentWithMeasurement&quot;, &quot;instrument_name&quot;: &quot;dmm&quot;, &quot;name&quot;: &quot;v1&quot;, &quot;unit&quot;: &quot;V&quot;, &quot;label&quot;: &quot;Gate v1&quot;, &quot;inter_delay&quot;: 0}, &quot;v2&quot;: {&quot;__class__&quot;: &quot;qcodes.instrument_drivers.mock_instruments.DmmGaussParameter&quot;, &quot;full_name&quot;: &quot;dmm_v2&quot;, &quot;value&quot;: -0.0002917389985514505, &quot;raw_value&quot;: -0.0002917389985514505, &quot;ts&quot;: &quot;2024-04-29 17:46:00&quot;, &quot;post_delay&quot;: 0, &quot;vals&quot;: &quot;&lt;Numbers -800&lt;=v&lt;=400&gt;&quot;, &quot;validators&quot;: [&quot;&lt;Numbers -800&lt;=v&lt;=400&gt;&quot;], &quot;instrument&quot;: &quot;qcodes.instrument_drivers.mock_instruments.DummyInstrumentWithMeasurement&quot;, &quot;instrument_name&quot;: &quot;dmm&quot;, &quot;name&quot;: &quot;v2&quot;, &quot;unit&quot;: &quot;V&quot;, &quot;label&quot;: &quot;Gate v2&quot;, &quot;inter_delay&quot;: 0}}, &quot;__class__&quot;: &quot;qcodes.instrument_drivers.mock_instruments.DummyInstrumentWithMeasurement&quot;, &quot;name&quot;: &quot;dmm&quot;, &quot;label&quot;: &quot;dmm&quot;}}, &quot;parameters&quot;: {}, &quot;components&quot;: {}, &quot;config&quot;: null}}</dd><dt><span>guid :</span></dt><dd>386662af-0000-0000-0000-018f29084c7f</dd><dt><span>run_timestamp :</span></dt><dd>2024-04-29 17:46:00</dd><dt><span>completed_timestamp :</span></dt><dd>2024-04-29 17:46:00</dd><dt><span>captured_run_id :</span></dt><dd>1</dd><dt><span>captured_counter :</span></dt><dd>1</dd><dt><span>run_id :</span></dt><dd>1</dd><dt><span>run_description :</span></dt><dd>{&quot;version&quot;: 3, &quot;interdependencies&quot;: {&quot;paramspecs&quot;: [{&quot;name&quot;: &quot;dac_ch1&quot;, &quot;paramtype&quot;: &quot;numeric&quot;, &quot;label&quot;: &quot;Gate ch1&quot;, &quot;unit&quot;: &quot;V&quot;, &quot;inferred_from&quot;: [], &quot;depends_on&quot;: []}, {&quot;name&quot;: &quot;dmm_v1&quot;, &quot;paramtype&quot;: &quot;numeric&quot;, &quot;label&quot;: &quot;Gate v1&quot;, &quot;unit&quot;: &quot;V&quot;, &quot;inferred_from&quot;: [], &quot;depends_on&quot;: [&quot;dac_ch1&quot;]}]}, &quot;interdependencies_&quot;: {&quot;parameters&quot;: {&quot;dmm_v1&quot;: {&quot;name&quot;: &quot;dmm_v1&quot;, &quot;paramtype&quot;: &quot;numeric&quot;, &quot;label&quot;: &quot;Gate v1&quot;, &quot;unit&quot;: &quot;V&quot;}, &quot;dac_ch1&quot;: {&quot;name&quot;: &quot;dac_ch1&quot;, &quot;paramtype&quot;: &quot;numeric&quot;, &quot;label&quot;: &quot;Gate ch1&quot;, &quot;unit&quot;: &quot;V&quot;}}, &quot;dependencies&quot;: {&quot;dmm_v1&quot;: [&quot;dac_ch1&quot;]}, &quot;inferences&quot;: {}, &quot;standalones&quot;: []}, &quot;shapes&quot;: null}</dd><dt><span>parent_dataset_links :</span></dt><dd>[]</dd><dt><span>run_timestamp_raw :</span></dt><dd>1714380360.834736</dd><dt><span>completed_timestamp_raw :</span></dt><dd>1714380360.8378649</dd></dl></div></li></ul></div></div>"
      ],
      "text/plain": [
       "<xarray.Dataset> Size: 160B\n",
       "Dimensions:  (dac_ch1: 10)\n",
       "Coordinates:\n",
       "  * dac_ch1  (dac_ch1) float64 80B 0.0 2.778 5.556 8.333 ... 19.44 22.22 25.0\n",
       "Data variables:\n",
       "    dmm_v1   (dac_ch1) float64 80B 4.962 2.839 1.885 ... 0.1346 0.0899 0.01154\n",
       "Attributes: (12/14)\n",
       "    ds_name:                  context_example\n",
       "    sample_name:              synthetic data\n",
       "    exp_name:                 tutorial_exp\n",
       "    snapshot:                 {\"station\": {\"instruments\": {\"dac\": {\"functions...\n",
       "    guid:                     386662af-0000-0000-0000-018f29084c7f\n",
       "    run_timestamp:            2024-04-29 17:46:00\n",
       "    ...                       ...\n",
       "    captured_counter:         1\n",
       "    run_id:                   1\n",
       "    run_description:          {\"version\": 3, \"interdependencies\": {\"paramspec...\n",
       "    parent_dataset_links:     []\n",
       "    run_timestamp_raw:        1714380360.834736\n",
       "    completed_timestamp_raw:  1714380360.8378649"
      ]
     },
     "execution_count": 26,
     "metadata": {},
     "output_type": "execute_result"
    }
   ],
   "source": [
    "xr_dataset = dataset_1d.to_xarray_dataset()\n",
    "xr_dataset"
   ]
  },
  {
   "cell_type": "markdown",
   "metadata": {},
   "source": [
    "より詳細な情報については[example notebook on working with pandas](DataSet/Working-With-Pandas-and-XArray.ipynb) and [Accessing data in DataSet notebook](DataSet/Accessing-data-in-DataSet.ipynb)を御覧ください。"
   ]
  },
  {
   "cell_type": "markdown",
   "metadata": {},
   "source": [
    "### インタラクティブウィジェットによるデータの検索"
   ]
  },
  {
   "cell_type": "markdown",
   "metadata": {},
   "source": [
    "テキストベースのレビューにとどまらず、ステーション・スナップショットの閲覧、メモの追加、選択した日のプロット作成などのインターフェイスを備えた、データベースを簡単に探索できるグラフィカル・ウィジェットも搭載されています。\n",
    "\n",
    "> このウィジェットは、インタラクティブな要素を表示するために[ipywidgets](https://ipywidgets.readthedocs.io/)を用いており、Jupyter notebookでのみ利用可能です。ただし、以下に簡単な非インタラクティブなデモビデオも用意しています。\n",
    "\n",
    "ここでは、先ほど初期化したサンプル・データベースをロードします。"
   ]
  },
  {
   "cell_type": "code",
   "execution_count": 27,
   "metadata": {},
   "outputs": [
    {
     "data": {
      "application/vnd.jupyter.widget-view+json": {
       "model_id": "206935f821204ae09706b9d92071608b",
       "version_major": 2,
       "version_minor": 0
      },
      "text/plain": [
       "VBox(children=(HTML(value='<h1>QCoDeS experiments widget</h1>'), Tab(children=(Output(),), selected_index=0, t…"
      ]
     },
     "execution_count": 27,
     "metadata": {},
     "output_type": "execute_result"
    }
   ],
   "source": [
    "experiments_widget(sort_by=\"timestamp\")"
   ]
  },
  {
   "cell_type": "markdown",
   "metadata": {},
   "source": [
    "外見と特徴をまとめた短いビデオはこちら：\n",
    "\n",
    "![video demo about experiments widget should show here](../_static/experiments_widget.webp)"
   ]
  },
  {
   "cell_type": "markdown",
   "metadata": {},
   "source": [
    "## Further Reading"
   ]
  },
  {
   "cell_type": "markdown",
   "metadata": {},
   "source": [
    "### QCoDeS configuration  \n",
    "\n",
    "QCoDeSはJSONベースの構成システムを使用します。QCoDeSはデフォルトのコンフィギュレーションで提供されます。デフォルトのconfigファイルは上書きしないでください。もし修正した場合は、ホームディレクトリか、スクリプト/ノートブックの現在のワーキングディレクトリに更新されたconfigファイルを保存してください。QCoDeS config システムはまずカレントディレクトリで config ファイルを探し、次にホームディレクトリで config ファイルを探します。デフォルトのコンフィグはqcodes.configにあります。configの変更と保存方法については、[documentation on config](Configuring_QCoDeS.ipynb)を参照してください。\n"
   ]
  },
  {
   "cell_type": "markdown",
   "metadata": {},
   "source": [
    "### QCoDeS instrument drivers\n",
    "\n",
    "現在マイクロソフトステーションで使用されている機器のほとんどをサポートし、ドライバを提供しています。しかし、現在ドライバでサポートされている以上の機能が必要な場合、ドライバをアップデートするか、QCoDeSチームにその機能をリクエストすることができます。また、ドライバの書き方について簡単な概要を知りたい場合は、[このノートブック](writing_drivers/Instruments.ipynb)や[example notebooks on writing drivers](index.rst#writing-drivers)を参照してください。\n"
   ]
  },
  {
   "cell_type": "markdown",
   "metadata": {},
   "source": [
    "### QCoDeS logging\n",
    "\n",
    "すべての測定セッションにおいて、QCoDeSロギングをオンにしておくことを強く推奨します。これにより、トラブルシューティングが必要な場合に、すべてのログを保存することができます。この機能については、すべてのロギング機能を説明した[example notebook](logging/logging_example.ipynb)で詳しく説明しています。\n"
   ]
  },
  {
   "cell_type": "code",
   "execution_count": null,
   "metadata": {},
   "outputs": [],
   "source": []
  }
 ],
 "metadata": {
  "kernelspec": {
   "display_name": "Python 3 (ipykernel)",
   "language": "python",
   "name": "python3"
  },
  "language_info": {
   "codemirror_mode": {
    "name": "ipython",
    "version": 3
   },
   "file_extension": ".py",
   "mimetype": "text/x-python",
   "name": "python",
   "nbconvert_exporter": "python",
   "pygments_lexer": "ipython3",
   "version": "3.12.3"
  },
  "toc": {
   "base_numbering": 1,
   "nav_menu": {},
   "number_sections": true,
   "sideBar": true,
   "skip_h1_title": false,
   "title_cell": "Table of Contents",
   "title_sidebar": "Contents",
   "toc_cell": false,
   "toc_position": {
    "height": "calc(100% - 180px)",
    "left": "10px",
    "top": "150px",
    "width": "303px"
   },
   "toc_section_display": true,
   "toc_window_display": true
  },
  "varInspector": {
   "cols": {
    "lenName": 16,
    "lenType": 16,
    "lenVar": 40
   },
   "kernels_config": {
    "python": {
     "delete_cmd_postfix": "",
     "delete_cmd_prefix": "del ",
     "library": "var_list.py",
     "varRefreshCmd": "print(var_dic_list())"
    },
    "r": {
     "delete_cmd_postfix": ") ",
     "delete_cmd_prefix": "rm(",
     "library": "var_list.r",
     "varRefreshCmd": "cat(var_dic_list()) "
    }
   },
   "types_to_exclude": [
    "module",
    "function",
    "builtin_function_or_method",
    "instance",
    "_Feature"
   ],
   "window_display": false
  },
  "widgets": {
   "application/vnd.jupyter.widget-state+json": {
    "state": {
     "008ddf0133984bfb8888c46f5d695058": {
      "model_module": "@jupyter-widgets/controls",
      "model_module_version": "1.5.0",
      "model_name": "ButtonStyleModel",
      "state": {}
     },
     "00e8ffb3845244a69b263719aa57e420": {
      "model_module": "@jupyter-widgets/base",
      "model_module_version": "1.2.0",
      "model_name": "LayoutModel",
      "state": {
       "grid_area": "widget046",
       "height": "auto",
       "width": "auto"
      }
     },
     "01c5308aba7a4834a06ba7d593d50d96": {
      "model_module": "@jupyter-widgets/controls",
      "model_module_version": "1.5.0",
      "model_name": "ButtonModel",
      "state": {
       "button_style": "success",
       "icon": "edit",
       "layout": "IPY_MODEL_6f13da93851f435fbf89903b1ed02702",
       "style": "IPY_MODEL_60158740f5f0440095a2278b8d81ec3f"
      }
     },
     "02688342bee349bc9a502c61bb6e54ee": {
      "model_module": "@jupyter-widgets/controls",
      "model_module_version": "1.5.0",
      "model_name": "ButtonStyleModel",
      "state": {}
     },
     "027edb7bd197485586016be56b28afb4": {
      "model_module": "@jupyter-widgets/base",
      "model_module_version": "1.2.0",
      "model_name": "LayoutModel",
      "state": {
       "grid_area": "widget010",
       "height": "auto",
       "width": "auto"
      }
     },
     "0330ce9fffd7464caffa02c5d562098c": {
      "model_module": "@jupyter-widgets/base",
      "model_module_version": "1.2.0",
      "model_name": "LayoutModel",
      "state": {}
     },
     "05e2e78c0d2c4af59f6aeb5ab39ca3fc": {
      "model_module": "@jupyter-widgets/base",
      "model_module_version": "1.2.0",
      "model_name": "LayoutModel",
      "state": {
       "grid_area": "widget020",
       "height": "auto",
       "width": "auto"
      }
     },
     "05fbe214ed884567b0212aeb6ad38a0a": {
      "model_module": "@jupyter-widgets/controls",
      "model_module_version": "1.5.0",
      "model_name": "HTMLModel",
      "state": {
       "layout": "IPY_MODEL_370bc6b7b21b478a85f61f18a6c6a034",
       "style": "IPY_MODEL_d83c36d75ef543f4bb1ccb50d195f49a",
       "value": "<h1>QCoDeS experiments widget</h1>"
      }
     },
     "0758a9c24fc3440c8e968c62f31a7aee": {
      "model_module": "@jupyter-widgets/controls",
      "model_module_version": "1.5.0",
      "model_name": "ButtonModel",
      "state": {
       "button_style": "warning",
       "icon": "camera",
       "layout": "IPY_MODEL_3289abae8cbe4c34a56c50c280401346",
       "style": "IPY_MODEL_af39bcabe6244aafacaa554d7ab085ad",
       "tooltip": "Click to open this DataSet's snapshot in a tab above."
      }
     },
     "087a4a428a0f461c87b6cf60b76af561": {
      "model_module": "@jupyter-widgets/controls",
      "model_module_version": "1.5.0",
      "model_name": "ButtonStyleModel",
      "state": {}
     },
     "0998dc2dfb684c82a0633ff940213a61": {
      "model_module": "@jupyter-widgets/base",
      "model_module_version": "1.2.0",
      "model_name": "LayoutModel",
      "state": {
       "height": "auto",
       "width": "auto"
      }
     },
     "0ec061fdd0984e39b910f7ea0c48de13": {
      "model_module": "@jupyter-widgets/controls",
      "model_module_version": "1.5.0",
      "model_name": "ButtonStyleModel",
      "state": {}
     },
     "0f2fddf476f745418a9df990f3f9a17a": {
      "model_module": "@jupyter-widgets/controls",
      "model_module_version": "1.5.0",
      "model_name": "VBoxModel",
      "state": {
       "children": [
        "IPY_MODEL_0f426dbd46ed4ff686df6a573db07695"
       ],
       "layout": "IPY_MODEL_a9a391a937474c00ba4514a693a42635"
      }
     },
     "0f426dbd46ed4ff686df6a573db07695": {
      "model_module": "@jupyter-widgets/controls",
      "model_module_version": "1.5.0",
      "model_name": "ButtonModel",
      "state": {
       "button_style": "success",
       "icon": "edit",
       "layout": "IPY_MODEL_3039df826f914e1ea3cb775b4011b637",
       "style": "IPY_MODEL_b37660c9d149494aa9371319fc292fd3"
      }
     },
     "11a1a2ed661448f08f2109ad060497d1": {
      "model_module": "@jupyter-widgets/controls",
      "model_module_version": "1.5.0",
      "model_name": "ButtonModel",
      "state": {
       "button_style": "warning",
       "icon": "camera",
       "layout": "IPY_MODEL_4c2c1ae6ea114479bed03156c71c888e",
       "style": "IPY_MODEL_4feabc18c39e4c23882501b1cc8afdfb",
       "tooltip": "Click to open this DataSet's snapshot in a tab above."
      }
     },
     "11f36f64bd59439387d7fa3db19f9d8a": {
      "model_module": "@jupyter-widgets/controls",
      "model_module_version": "1.5.0",
      "model_name": "ButtonStyleModel",
      "state": {}
     },
     "128c6dfe8a9b4632bac7b876e8733f5c": {
      "model_module": "@jupyter-widgets/controls",
      "model_module_version": "1.5.0",
      "model_name": "VBoxModel",
      "state": {
       "children": [
        "IPY_MODEL_a4b814ec91c04f688f4230e39b97551e"
       ],
       "layout": "IPY_MODEL_836e42125ddc48cc99d9ffd5ddf46fde"
      }
     },
     "12eaf3cff0824f5c994119746663e6c5": {
      "model_module": "@jupyter-widgets/base",
      "model_module_version": "1.2.0",
      "model_name": "LayoutModel",
      "state": {
       "grid_area": "widget030",
       "height": "auto",
       "width": "auto"
      }
     },
     "147a4371064548de81777aadd9c1f6a7": {
      "model_module": "@jupyter-widgets/controls",
      "model_module_version": "1.5.0",
      "model_name": "ButtonStyleModel",
      "state": {}
     },
     "14d6182280524c0f8a601a1bd1401858": {
      "model_module": "@jupyter-widgets/base",
      "model_module_version": "1.2.0",
      "model_name": "LayoutModel",
      "state": {
       "height": "auto",
       "width": "auto"
      }
     },
     "15bc1b86c6fd40cc8a31c0d5208d2bac": {
      "model_module": "@jupyter-widgets/base",
      "model_module_version": "1.2.0",
      "model_name": "LayoutModel",
      "state": {
       "grid_area": "widget032",
       "height": "auto",
       "width": "auto"
      }
     },
     "17287d588695469280f7a39b7703e46b": {
      "model_module": "@jupyter-widgets/controls",
      "model_module_version": "1.5.0",
      "model_name": "VBoxModel",
      "state": {
       "children": [
        "IPY_MODEL_a9f1e7056ce64610b0eb3c4e9971656d"
       ],
       "layout": "IPY_MODEL_79e9d94197fa4493bffb5d98f85f95ac"
      }
     },
     "17d57a0564024383bbd6aedbe1940f9c": {
      "model_module": "@jupyter-widgets/base",
      "model_module_version": "1.2.0",
      "model_name": "LayoutModel",
      "state": {
       "height": "auto",
       "width": "auto"
      }
     },
     "17e4fbccde4b460891c6c007b5c488a7": {
      "model_module": "@jupyter-widgets/controls",
      "model_module_version": "1.5.0",
      "model_name": "LabelModel",
      "state": {
       "layout": "IPY_MODEL_76a18359864348e0800558a63cdfb878",
       "style": "IPY_MODEL_bc2b8395fdbd4f889065a725730a32be"
      }
     },
     "1c3baf314eba4800b40f84db936d58d4": {
      "model_module": "@jupyter-widgets/controls",
      "model_module_version": "1.5.0",
      "model_name": "DescriptionStyleModel",
      "state": {
       "description_width": ""
      }
     },
     "2087c7b2d7674693bc40e3d4da5ff819": {
      "model_module": "@jupyter-widgets/base",
      "model_module_version": "1.2.0",
      "model_name": "LayoutModel",
      "state": {
       "grid_area": "widget014",
       "height": "auto",
       "width": "auto"
      }
     },
     "20afd2c3b678489cb964ae40472c737c": {
      "model_module": "@jupyter-widgets/controls",
      "model_module_version": "1.5.0",
      "model_name": "VBoxModel",
      "state": {
       "children": [
        "IPY_MODEL_a682f0c022634160adc91e0ed91c956a"
       ],
       "layout": "IPY_MODEL_3478ba9ca5124a82bf82ab72e93baa65"
      }
     },
     "20d63f170ff546b5a018a4e29a3ec5f6": {
      "model_module": "@jupyter-widgets/controls",
      "model_module_version": "1.5.0",
      "model_name": "ButtonStyleModel",
      "state": {}
     },
     "216867e27c504bd7a4da7dbc01446e67": {
      "model_module": "@jupyter-widgets/base",
      "model_module_version": "1.2.0",
      "model_name": "LayoutModel",
      "state": {
       "grid_area": "widget004",
       "height": "auto",
       "width": "auto"
      }
     },
     "2432aad361bd4f379eec5092b2132e42": {
      "model_module": "@jupyter-widgets/controls",
      "model_module_version": "1.5.0",
      "model_name": "ButtonStyleModel",
      "state": {}
     },
     "25395f04f24e4bbc828c09052c8c29b0": {
      "model_module": "@jupyter-widgets/controls",
      "model_module_version": "1.5.0",
      "model_name": "ButtonStyleModel",
      "state": {}
     },
     "25b2ffc8c9494339969339d9d4e8b43a": {
      "model_module": "@jupyter-widgets/controls",
      "model_module_version": "1.5.0",
      "model_name": "HBoxModel",
      "state": {
       "children": [
        "IPY_MODEL_b63216b564384249886f456c0c5ecd19",
        "IPY_MODEL_cf7733e6a54849ea96225d63f3c8054d",
        "IPY_MODEL_2ed4c3dca6164f1ba10671765a24523f"
       ],
       "layout": "IPY_MODEL_e361a4ef4c854ee0b1ec0a37d01e7164"
      }
     },
     "27d69751bb064d5ebd2531f627b3946b": {
      "model_module": "@jupyter-widgets/controls",
      "model_module_version": "1.5.0",
      "model_name": "ButtonModel",
      "state": {
       "button_style": "success",
       "description": "6",
       "layout": "IPY_MODEL_ad3070cca3b14fb79f6aac004563f550",
       "style": "IPY_MODEL_93a16beb2eec495f9f2943bdeec97363",
       "tooltip": "6"
      }
     },
     "29c80aa1ee57452886fc32dd1b400413": {
      "model_module": "@jupyter-widgets/controls",
      "model_module_version": "1.5.0",
      "model_name": "VBoxModel",
      "state": {
       "children": [
        "IPY_MODEL_4942910b4da94d808aaec177bd3b7b24"
       ],
       "layout": "IPY_MODEL_4c4bdf687f8248b6b185b4eba85f18ad"
      }
     },
     "2afb6a62ad5e40a2a7715b5595c06625": {
      "model_module": "@jupyter-widgets/controls",
      "model_module_version": "1.5.0",
      "model_name": "ButtonStyleModel",
      "state": {}
     },
     "2b104c0aa79b44f7841cb76cb108f5ee": {
      "model_module": "@jupyter-widgets/controls",
      "model_module_version": "1.5.0",
      "model_name": "ButtonStyleModel",
      "state": {}
     },
     "2dd62d894bef4b368b947b67c37c4342": {
      "model_module": "@jupyter-widgets/base",
      "model_module_version": "1.2.0",
      "model_name": "LayoutModel",
      "state": {
       "grid_area": "widget019",
       "height": "max-content",
       "width": "auto"
      }
     },
     "2df53c8863e943caa7f8d5da6022233b": {
      "model_module": "@jupyter-widgets/controls",
      "model_module_version": "1.5.0",
      "model_name": "ButtonStyleModel",
      "state": {}
     },
     "2ed4c3dca6164f1ba10671765a24523f": {
      "model_module": "@jupyter-widgets/controls",
      "model_module_version": "1.5.0",
      "model_name": "HTMLModel",
      "state": {
       "layout": "IPY_MODEL_0330ce9fffd7464caffa02c5d562098c",
       "style": "IPY_MODEL_de7788c7155c467ea88a16c58917e9c9",
       "value": " 400/400 [00:06&lt;00:00, 57.81it/s]"
      }
     },
     "2f18d8ea405147498982202832c3c736": {
      "model_module": "@jupyter-widgets/controls",
      "model_module_version": "1.5.0",
      "model_name": "VBoxModel",
      "state": {
       "children": [
        "IPY_MODEL_aaf1bb2548144c0bb8266a610fbb7eae"
       ],
       "layout": "IPY_MODEL_05e2e78c0d2c4af59f6aeb5ab39ca3fc"
      }
     },
     "3039df826f914e1ea3cb775b4011b637": {
      "model_module": "@jupyter-widgets/base",
      "model_module_version": "1.2.0",
      "model_name": "LayoutModel",
      "state": {
       "height": "auto",
       "width": "auto"
      }
     },
     "31598707a34b4ecdbfdb1e8f63afcc97": {
      "model_module": "@jupyter-widgets/controls",
      "model_module_version": "1.5.0",
      "model_name": "ButtonModel",
      "state": {
       "button_style": "success",
       "description": "tutorial_exp, synthetic data",
       "layout": "IPY_MODEL_3984994568164be59e3f3518e71fb431",
       "style": "IPY_MODEL_9c96711ff8a34f9796b4082c180d2cd8",
       "tooltip": "tutorial_exp, synthetic data"
      }
     },
     "31beebacd87f46d39a42fb1e57a4f219": {
      "model_module": "@jupyter-widgets/controls",
      "model_module_version": "1.5.0",
      "model_name": "ButtonModel",
      "state": {
       "button_style": "success",
       "icon": "edit",
       "layout": "IPY_MODEL_c85ac998e29f46adbaeaf443ba9edfa2",
       "style": "IPY_MODEL_950d86b90c194f9fae88c9174db8c587"
      }
     },
     "3289abae8cbe4c34a56c50c280401346": {
      "model_module": "@jupyter-widgets/base",
      "model_module_version": "1.2.0",
      "model_name": "LayoutModel",
      "state": {
       "grid_area": "widget055",
       "height": "auto",
       "width": "auto"
      }
     },
     "328de8905bd04a6289167ea78a0a90f5": {
      "model_module": "@jupyter-widgets/controls",
      "model_module_version": "1.5.0",
      "model_name": "ButtonModel",
      "state": {
       "button_style": "success",
       "description": "3",
       "layout": "IPY_MODEL_14d6182280524c0f8a601a1bd1401858",
       "style": "IPY_MODEL_bcce46bc1b8b48bc904f0af11f7b60dd",
       "tooltip": "3"
      }
     },
     "3478ba9ca5124a82bf82ab72e93baa65": {
      "model_module": "@jupyter-widgets/base",
      "model_module_version": "1.2.0",
      "model_name": "LayoutModel",
      "state": {
       "grid_area": "widget041",
       "height": "auto",
       "width": "auto"
      }
     },
     "352b62e8ec4049e086334d5677498858": {
      "model_module": "@jupyter-widgets/base",
      "model_module_version": "1.2.0",
      "model_name": "LayoutModel",
      "state": {
       "grid_area": "widget040",
       "height": "auto",
       "width": "auto"
      }
     },
     "364e9d753eaa4dfeb8ec9881da4c1c8d": {
      "model_module": "@jupyter-widgets/controls",
      "model_module_version": "1.5.0",
      "model_name": "ButtonModel",
      "state": {
       "button_style": "warning",
       "icon": "camera",
       "layout": "IPY_MODEL_7f4c13c5522b448c89be9d4a950b8107",
       "style": "IPY_MODEL_768d649ddd3b4b55bb09211c74d3e422",
       "tooltip": "Click to open this DataSet's snapshot in a tab above."
      }
     },
     "370bc6b7b21b478a85f61f18a6c6a034": {
      "model_module": "@jupyter-widgets/base",
      "model_module_version": "1.2.0",
      "model_name": "LayoutModel",
      "state": {}
     },
     "37a44d09d04a4575b1406d0580acdcaf": {
      "model_module": "@jupyter-widgets/controls",
      "model_module_version": "1.5.0",
      "model_name": "ButtonModel",
      "state": {
       "button_style": "info",
       "description": "MSMT Time",
       "layout": "IPY_MODEL_b7a8758809594a4e9460394e891923e4",
       "style": "IPY_MODEL_2df53c8863e943caa7f8d5da6022233b",
       "tooltip": "MSMT Time"
      }
     },
     "39831ad08d2a4c3e94af53d0e0c6888c": {
      "model_module": "@jupyter-widgets/controls",
      "model_module_version": "1.5.0",
      "model_name": "LabelModel",
      "state": {
       "layout": "IPY_MODEL_6ad129a08aa54e408fffcf1a9abddfdf",
       "style": "IPY_MODEL_a3e80aceaf6348a8b263e204c59fda50",
       "value": "dond_example"
      }
     },
     "3984994568164be59e3f3518e71fb431": {
      "model_module": "@jupyter-widgets/base",
      "model_module_version": "1.2.0",
      "model_name": "LayoutModel",
      "state": {
       "height": "auto",
       "width": "auto"
      }
     },
     "3a7f26d3693d4ca9ae4b56d57c86d878": {
      "model_module": "@jupyter-widgets/controls",
      "model_module_version": "1.5.0",
      "model_name": "ButtonStyleModel",
      "state": {}
     },
     "3cc263f6c9ee40f6b9062d631492b9b7": {
      "model_module": "@jupyter-widgets/controls",
      "model_module_version": "1.5.0",
      "model_name": "VBoxModel",
      "state": {
       "children": [
        "IPY_MODEL_ed09e15f352b40b79fdfc02f281dbd69"
       ],
       "layout": "IPY_MODEL_7918e60c97a044fab57c4ad53cda47a2"
      }
     },
     "3d4b3aa3a28b4308a43c7acf685a4964": {
      "model_module": "@jupyter-widgets/controls",
      "model_module_version": "1.5.0",
      "model_name": "ButtonModel",
      "state": {
       "button_style": "warning",
       "icon": "line-chart",
       "layout": "IPY_MODEL_b3d7726d6dba4ee3aebe9a4e710db51d",
       "style": "IPY_MODEL_a1ab6035508244e0bed7ac261c82e52c",
       "tooltip": "Click to open this DataSet's plot in a tab above."
      }
     },
     "3dafea22bc1246b89cfd2b796d6225fa": {
      "model_module": "@jupyter-widgets/base",
      "model_module_version": "1.2.0",
      "model_name": "LayoutModel",
      "state": {
       "grid_area": "widget029",
       "height": "auto",
       "width": "auto"
      }
     },
     "3db7546506d54ab8b0c36f3217d914c4": {
      "model_module": "@jupyter-widgets/controls",
      "model_module_version": "1.5.0",
      "model_name": "ButtonStyleModel",
      "state": {}
     },
     "3e24e41d532d4ed5a8140e59fa5529e6": {
      "model_module": "@jupyter-widgets/controls",
      "model_module_version": "1.5.0",
      "model_name": "VBoxModel",
      "state": {
       "children": [
        "IPY_MODEL_d483c40cff4f4ab5b3e4187962bd084a"
       ],
       "layout": "IPY_MODEL_b8a994c9f2dd42cfb53b050e7e8ef18a"
      }
     },
     "3ecee6abbf7a47d3938943810b927503": {
      "model_module": "@jupyter-widgets/base",
      "model_module_version": "1.2.0",
      "model_name": "LayoutModel",
      "state": {
       "grid_area": "widget021",
       "height": "auto",
       "width": "auto"
      }
     },
     "3ff70e610ed14a0a862adf4b2e45c3b8": {
      "model_module": "@jupyter-widgets/controls",
      "model_module_version": "1.5.0",
      "model_name": "ProgressStyleModel",
      "state": {
       "description_width": ""
      }
     },
     "41aa75a2062d48a59a1e68d04e0b68fc": {
      "model_module": "@jupyter-widgets/controls",
      "model_module_version": "1.5.0",
      "model_name": "ButtonModel",
      "state": {
       "button_style": "success",
       "description": "2022-02-28 11:57:34",
       "layout": "IPY_MODEL_6fad272d9bda43159aea01dd2edcbb74",
       "style": "IPY_MODEL_b615332aa8fb43f39d2367f4aee425b2",
       "tooltip": "2022-02-28 11:57:34"
      }
     },
     "433081ea78ac4c9a9bc383de1de7fa81": {
      "model_module": "@jupyter-widgets/controls",
      "model_module_version": "1.5.0",
      "model_name": "ButtonStyleModel",
      "state": {}
     },
     "4675b457d4f64f64b74fbd5fe7c5a96b": {
      "model_module": "@jupyter-widgets/base",
      "model_module_version": "1.2.0",
      "model_name": "LayoutModel",
      "state": {
       "grid_area": "widget027",
       "height": "max-content",
       "width": "auto"
      }
     },
     "481220ee79594e3ca1a159a30e8a9d22": {
      "model_module": "@jupyter-widgets/controls",
      "model_module_version": "1.5.0",
      "model_name": "ButtonStyleModel",
      "state": {}
     },
     "4942910b4da94d808aaec177bd3b7b24": {
      "model_module": "@jupyter-widgets/controls",
      "model_module_version": "1.5.0",
      "model_name": "ButtonModel",
      "state": {
       "button_style": "success",
       "icon": "edit",
       "layout": "IPY_MODEL_0998dc2dfb684c82a0633ff940213a61",
       "style": "IPY_MODEL_25395f04f24e4bbc828c09052c8c29b0"
      }
     },
     "4b266435b6db498e839a0ec12bd4ac82": {
      "model_module": "@jupyter-widgets/controls",
      "model_module_version": "1.5.0",
      "model_name": "ButtonModel",
      "state": {
       "button_style": "warning",
       "icon": "camera",
       "layout": "IPY_MODEL_eb389048b3c34b08bc4e0f23a11fe16c",
       "style": "IPY_MODEL_3db7546506d54ab8b0c36f3217d914c4",
       "tooltip": "Click to open this DataSet's snapshot in a tab above."
      }
     },
     "4bf3ee61043f45348c91c7a650bcc93b": {
      "model_module": "@jupyter-widgets/base",
      "model_module_version": "1.2.0",
      "model_name": "LayoutModel",
      "state": {
       "grid_area": "widget035",
       "height": "max-content",
       "width": "auto"
      }
     },
     "4c1c6c2e1292438cb04f14e599414cfa": {
      "model_module": "@jupyter-widgets/controls",
      "model_module_version": "1.5.0",
      "model_name": "ButtonModel",
      "state": {
       "button_style": "info",
       "description": "Parameters",
       "layout": "IPY_MODEL_216867e27c504bd7a4da7dbc01446e67",
       "style": "IPY_MODEL_cb94d7f63f924bc7b36f93bd1403f579",
       "tooltip": "Parameters"
      }
     },
     "4c2c1ae6ea114479bed03156c71c888e": {
      "model_module": "@jupyter-widgets/base",
      "model_module_version": "1.2.0",
      "model_name": "LayoutModel",
      "state": {
       "grid_area": "widget023",
       "height": "auto",
       "width": "auto"
      }
     },
     "4c4bdf687f8248b6b185b4eba85f18ad": {
      "model_module": "@jupyter-widgets/base",
      "model_module_version": "1.2.0",
      "model_name": "LayoutModel",
      "state": {
       "grid_area": "widget054",
       "height": "auto",
       "width": "auto"
      }
     },
     "4c9f8e7a3d2b431b80051c830bc71bb1": {
      "model_module": "@jupyter-widgets/controls",
      "model_module_version": "1.5.0",
      "model_name": "ButtonModel",
      "state": {
       "button_style": "warning",
       "icon": "camera",
       "layout": "IPY_MODEL_b828d008f3854a479c70a31c27e43bf2",
       "style": "IPY_MODEL_a598e9bbbf8c48afba9d3cf03bbcbd48",
       "tooltip": "Click to open this DataSet's snapshot in a tab above."
      }
     },
     "4d55591a0ef14ee6a003e464c21c7f0d": {
      "model_module": "@jupyter-widgets/controls",
      "model_module_version": "1.5.0",
      "model_name": "ButtonStyleModel",
      "state": {}
     },
     "4f78af3dcb46462aa16655a24bf8b250": {
      "model_module": "@jupyter-widgets/base",
      "model_module_version": "1.2.0",
      "model_name": "LayoutModel",
      "state": {
       "height": "auto",
       "width": "auto"
      }
     },
     "4fe14145069c469e84a642a596b91845": {
      "model_module": "@jupyter-widgets/controls",
      "model_module_version": "1.5.0",
      "model_name": "LabelModel",
      "state": {
       "layout": "IPY_MODEL_4675b457d4f64f64b74fbd5fe7c5a96b",
       "style": "IPY_MODEL_e2cf8578ecce4cb39578018f0498b6f5",
       "value": "dond_example"
      }
     },
     "4feabc18c39e4c23882501b1cc8afdfb": {
      "model_module": "@jupyter-widgets/controls",
      "model_module_version": "1.5.0",
      "model_name": "ButtonStyleModel",
      "state": {}
     },
     "500f85484279432e80de8f4071fd92cb": {
      "model_module": "@jupyter-widgets/controls",
      "model_module_version": "1.5.0",
      "model_name": "VBoxModel",
      "state": {
       "children": [
        "IPY_MODEL_9883da4c05f94777b2eb7bc2293a9963"
       ],
       "layout": "IPY_MODEL_b14f6772770e48ff96afbf70963ef0c9"
      }
     },
     "50594a62720045d489ec923113165026": {
      "model_module": "@jupyter-widgets/controls",
      "model_module_version": "1.5.0",
      "model_name": "VBoxModel",
      "state": {
       "children": [
        "IPY_MODEL_6aa71e1ad22a49c9a2be50350a3c1012"
       ],
       "layout": "IPY_MODEL_d614d4ac5e97484db1e29f088d5ba152"
      }
     },
     "54008a8d811948699b21e8301550f815": {
      "model_module": "@jupyter-widgets/controls",
      "model_module_version": "1.5.0",
      "model_name": "DescriptionStyleModel",
      "state": {
       "description_width": ""
      }
     },
     "56b1b64ec7e745b3b2bb4e37d7643928": {
      "model_module": "@jupyter-widgets/base",
      "model_module_version": "1.2.0",
      "model_name": "LayoutModel",
      "state": {
       "grid_area": "widget051",
       "height": "max-content",
       "width": "auto"
      }
     },
     "5757ab66a05f4916a063887fe59a0651": {
      "model_module": "@jupyter-widgets/controls",
      "model_module_version": "1.5.0",
      "model_name": "ButtonModel",
      "state": {
       "button_style": "success",
       "description": "2022-02-28 11:57:48",
       "layout": "IPY_MODEL_9f3f130dc9ce4ffbb7c435868cb6dd16",
       "style": "IPY_MODEL_e99a0e3dcbe944b893935efc759bc860",
       "tooltip": "2022-02-28 11:57:48"
      }
     },
     "576daa673aab4968941ae09c8579b77a": {
      "model_module": "@jupyter-widgets/base",
      "model_module_version": "1.2.0",
      "model_name": "LayoutModel",
      "state": {
       "grid_area": "widget001",
       "height": "auto",
       "width": "auto"
      }
     },
     "5af9f35ecadb492fa6135c78efcf5643": {
      "model_module": "@jupyter-widgets/base",
      "model_module_version": "1.2.0",
      "model_name": "LayoutModel",
      "state": {
       "grid_area": "widget003",
       "height": "auto",
       "width": "auto"
      }
     },
     "5c848bf7d44a4aaa9a76da7b3846b54b": {
      "model_module": "@jupyter-widgets/base",
      "model_module_version": "1.2.0",
      "model_name": "LayoutModel",
      "state": {
       "grid_area": "widget006",
       "height": "auto",
       "width": "auto"
      }
     },
     "5eb33b3a7349456a893912bc050c5c98": {
      "model_module": "@jupyter-widgets/controls",
      "model_module_version": "1.5.0",
      "model_name": "LabelModel",
      "state": {
       "layout": "IPY_MODEL_4bf3ee61043f45348c91c7a650bcc93b",
       "style": "IPY_MODEL_dc41b8c20b924c69992aab2679c7281e",
       "value": "dond_example"
      }
     },
     "600eeff88ef94a20a9375ac6607b06aa": {
      "model_module": "@jupyter-widgets/controls",
      "model_module_version": "1.5.0",
      "model_name": "ButtonModel",
      "state": {
       "button_style": "success",
       "description": "2022-02-28 11:57:18",
       "layout": "IPY_MODEL_4f78af3dcb46462aa16655a24bf8b250",
       "style": "IPY_MODEL_bee6ade5f7934ae4b23262a0d1a1dc84",
       "tooltip": "2022-02-28 11:57:18"
      }
     },
     "60158740f5f0440095a2278b8d81ec3f": {
      "model_module": "@jupyter-widgets/controls",
      "model_module_version": "1.5.0",
      "model_name": "ButtonStyleModel",
      "state": {}
     },
     "6084fbc7289d401da56bac80499dffc2": {
      "model_module": "@jupyter-widgets/base",
      "model_module_version": "1.2.0",
      "model_name": "LayoutModel",
      "state": {
       "grid_area": "widget007",
       "height": "auto",
       "width": "auto"
      }
     },
     "6103c51820214fe2b5bd5374d27240c0": {
      "model_module": "@jupyter-widgets/controls",
      "model_module_version": "1.5.0",
      "model_name": "ButtonModel",
      "state": {
       "button_style": "info",
       "description": "Plot",
       "layout": "IPY_MODEL_a4973b84eb104dea9e09732e1531ce99",
       "style": "IPY_MODEL_d84dfa93d8b247389969068a5f5a4b78",
       "tooltip": "Plot"
      }
     },
     "6128db78834e4611a710751ff1843dd6": {
      "model_module": "@jupyter-widgets/controls",
      "model_module_version": "1.5.0",
      "model_name": "LabelModel",
      "state": {
       "layout": "IPY_MODEL_56b1b64ec7e745b3b2bb4e37d7643928",
       "style": "IPY_MODEL_7e292ab8c3be488a9aac132b74eaf946",
       "value": "context_example"
      }
     },
     "6268f62313a64bd98783343a7c1f3fdd": {
      "model_module": "@jupyter-widgets/controls",
      "model_module_version": "1.5.0",
      "model_name": "DescriptionStyleModel",
      "state": {
       "description_width": ""
      }
     },
     "63b8ece8d4224a73aa9e5f723cd5a479": {
      "model_module": "@jupyter-widgets/base",
      "model_module_version": "1.2.0",
      "model_name": "LayoutModel",
      "state": {
       "grid_area": "widget002",
       "height": "auto",
       "width": "auto"
      }
     },
     "64a3ee4e99754041b17f9b632e0e5dae": {
      "model_module": "@jupyter-widgets/controls",
      "model_module_version": "1.5.0",
      "model_name": "ButtonModel",
      "state": {
       "button_style": "warning",
       "icon": "line-chart",
       "layout": "IPY_MODEL_e1eed0df78eb4eeb86f34ed3bfbf8ffd",
       "style": "IPY_MODEL_2b104c0aa79b44f7841cb76cb108f5ee",
       "tooltip": "Click to open this DataSet's plot in a tab above."
      }
     },
     "65447e8bc1d74eeab6ebfe275a2fdc32": {
      "model_module": "@jupyter-widgets/controls",
      "model_module_version": "1.5.0",
      "model_name": "VBoxModel",
      "state": {
       "children": [
        "IPY_MODEL_b5bbe4a29c0c444e9d4ecd80c1668b70"
       ],
       "layout": "IPY_MODEL_8cee26896bdd490b93e2a2dd207d0776"
      }
     },
     "65e6bfef31824c1b85671ac123f090b5": {
      "model_module": "@jupyter-widgets/controls",
      "model_module_version": "1.5.0",
      "model_name": "ButtonStyleModel",
      "state": {}
     },
     "67d5af1564084e268809bf0ba16a61c6": {
      "model_module": "@jupyter-widgets/controls",
      "model_module_version": "1.5.0",
      "model_name": "VBoxModel",
      "state": {
       "children": [
        "IPY_MODEL_01c5308aba7a4834a06ba7d593d50d96"
       ],
       "layout": "IPY_MODEL_888e5650f5ba41408c0475552930a6e0"
      }
     },
     "681e09b457094933bde4c581d85c2719": {
      "model_module": "@jupyter-widgets/controls",
      "model_module_version": "1.5.0",
      "model_name": "ButtonModel",
      "state": {
       "button_style": "success",
       "description": "tutorial_exp, synthetic data",
       "layout": "IPY_MODEL_17d57a0564024383bbd6aedbe1940f9c",
       "style": "IPY_MODEL_9798fd1d5b784282a4067130d17106ab",
       "tooltip": "tutorial_exp, synthetic data"
      }
     },
     "6a53dc39b2aa4e7e957211cf5b35152d": {
      "model_module": "@jupyter-widgets/controls",
      "model_module_version": "1.5.0",
      "model_name": "ButtonStyleModel",
      "state": {}
     },
     "6aa71e1ad22a49c9a2be50350a3c1012": {
      "model_module": "@jupyter-widgets/controls",
      "model_module_version": "1.5.0",
      "model_name": "ButtonModel",
      "state": {
       "button_style": "success",
       "description": "1",
       "layout": "IPY_MODEL_e7af9982173649ad8a6797293d609c8d",
       "style": "IPY_MODEL_65e6bfef31824c1b85671ac123f090b5",
       "tooltip": "1"
      }
     },
     "6ad129a08aa54e408fffcf1a9abddfdf": {
      "model_module": "@jupyter-widgets/base",
      "model_module_version": "1.2.0",
      "model_name": "LayoutModel",
      "state": {
       "grid_area": "widget011",
       "height": "max-content",
       "width": "auto"
      }
     },
     "6b7d6b9e26c5435d85926636f980a776": {
      "model_module": "@jupyter-widgets/controls",
      "model_module_version": "1.5.0",
      "model_name": "ButtonModel",
      "state": {
       "button_style": "success",
       "description": "4",
       "layout": "IPY_MODEL_9981f390cc1140f6bf17a580b573eff4",
       "style": "IPY_MODEL_b37af9f4b6f041d1b34dce053d385c75",
       "tooltip": "4"
      }
     },
     "6d344637ec104ebb8a7aedb0fa28143f": {
      "model_module": "@jupyter-widgets/base",
      "model_module_version": "1.2.0",
      "model_name": "LayoutModel",
      "state": {
       "height": "auto",
       "width": "auto"
      }
     },
     "6e80b6ef8d1d45ba996c923654206427": {
      "model_module": "@jupyter-widgets/controls",
      "model_module_version": "1.5.0",
      "model_name": "ButtonStyleModel",
      "state": {}
     },
     "6ecb7c4aa402438e8c9e65d44d8c2921": {
      "model_module": "@jupyter-widgets/base",
      "model_module_version": "1.2.0",
      "model_name": "LayoutModel",
      "state": {
       "height": "auto",
       "width": "auto"
      }
     },
     "6f13da93851f435fbf89903b1ed02702": {
      "model_module": "@jupyter-widgets/base",
      "model_module_version": "1.2.0",
      "model_name": "LayoutModel",
      "state": {
       "height": "auto",
       "width": "auto"
      }
     },
     "6fad272d9bda43159aea01dd2edcbb74": {
      "model_module": "@jupyter-widgets/base",
      "model_module_version": "1.2.0",
      "model_name": "LayoutModel",
      "state": {
       "height": "auto",
       "width": "auto"
      }
     },
     "71565ef3c8a84f58a7d456767a839514": {
      "model_module": "@jupyter-widgets/controls",
      "model_module_version": "1.5.0",
      "model_name": "VBoxModel",
      "state": {
       "children": [
        "IPY_MODEL_41aa75a2062d48a59a1e68d04e0b68fc"
       ],
       "layout": "IPY_MODEL_d12d6cd5d1d54ce8a282a68cc8a5a9d8"
      }
     },
     "71f1f29cb08949b0b9f017e939047944": {
      "model_module": "@jupyter-widgets/base",
      "model_module_version": "1.2.0",
      "model_name": "LayoutModel",
      "state": {
       "height": "auto",
       "width": "auto"
      }
     },
     "720a389ba6924e4984fd697ccbd9667b": {
      "model_module": "@jupyter-widgets/base",
      "model_module_version": "1.2.0",
      "model_name": "LayoutModel",
      "state": {}
     },
     "731f2af140e540c18d8a56b71b291936": {
      "model_module": "@jupyter-widgets/base",
      "model_module_version": "1.2.0",
      "model_name": "LayoutModel",
      "state": {
       "height": "auto",
       "width": "auto"
      }
     },
     "7357e0d879594701a22ccce54abffa05": {
      "model_module": "@jupyter-widgets/base",
      "model_module_version": "1.2.0",
      "model_name": "LayoutModel",
      "state": {
       "grid_area": "widget053",
       "height": "auto",
       "width": "auto"
      }
     },
     "7382c646755a4e70ac7b9efe408b4ce3": {
      "model_module": "@jupyter-widgets/base",
      "model_module_version": "1.2.0",
      "model_name": "LayoutModel",
      "state": {
       "grid_area": "widget013",
       "height": "auto",
       "width": "auto"
      }
     },
     "768d649ddd3b4b55bb09211c74d3e422": {
      "model_module": "@jupyter-widgets/controls",
      "model_module_version": "1.5.0",
      "model_name": "ButtonStyleModel",
      "state": {}
     },
     "769165c9bf5c4cddb0d476d369300714": {
      "model_module": "@jupyter-widgets/controls",
      "model_module_version": "1.5.0",
      "model_name": "ButtonModel",
      "state": {
       "button_style": "warning",
       "icon": "camera",
       "layout": "IPY_MODEL_91bf4503f19a45d5b44fc80b38dc3499",
       "style": "IPY_MODEL_2432aad361bd4f379eec5092b2132e42",
       "tooltip": "Click to open this DataSet's snapshot in a tab above."
      }
     },
     "76a18359864348e0800558a63cdfb878": {
      "model_module": "@jupyter-widgets/base",
      "model_module_version": "1.2.0",
      "model_name": "LayoutModel",
      "state": {
       "height": "max-content",
       "width": "auto"
      }
     },
     "76d07c2430f04baca1f727fc1f760f6d": {
      "model_module": "@jupyter-widgets/controls",
      "model_module_version": "1.5.0",
      "model_name": "ButtonModel",
      "state": {
       "button_style": "info",
       "description": "Snapshot",
       "layout": "IPY_MODEL_6084fbc7289d401da56bac80499dffc2",
       "style": "IPY_MODEL_6e80b6ef8d1d45ba996c923654206427",
       "tooltip": "Snapshot"
      }
     },
     "78afa3e8e4554bd8aedbfb22a12005c7": {
      "model_module": "@jupyter-widgets/base",
      "model_module_version": "1.2.0",
      "model_name": "LayoutModel",
      "state": {
       "height": "auto",
       "width": "auto"
      }
     },
     "7918e60c97a044fab57c4ad53cda47a2": {
      "model_module": "@jupyter-widgets/base",
      "model_module_version": "1.2.0",
      "model_name": "LayoutModel",
      "state": {
       "grid_area": "widget028",
       "height": "auto",
       "width": "auto"
      }
     },
     "79e9d94197fa4493bffb5d98f85f95ac": {
      "model_module": "@jupyter-widgets/base",
      "model_module_version": "1.2.0",
      "model_name": "LayoutModel",
      "state": {
       "grid_area": "widget017",
       "height": "auto",
       "width": "auto"
      }
     },
     "7c5edfb2e3c94d6f8aef4698e9933a22": {
      "model_module": "@jupyter-widgets/base",
      "model_module_version": "1.2.0",
      "model_name": "LayoutModel",
      "state": {}
     },
     "7e292ab8c3be488a9aac132b74eaf946": {
      "model_module": "@jupyter-widgets/controls",
      "model_module_version": "1.5.0",
      "model_name": "DescriptionStyleModel",
      "state": {
       "description_width": ""
      }
     },
     "7e5f5164f5a140bd82a5b5f0a59fb861": {
      "model_module": "@jupyter-widgets/base",
      "model_module_version": "1.2.0",
      "model_name": "LayoutModel",
      "state": {
       "grid_area": "widget034",
       "height": "auto",
       "width": "auto"
      }
     },
     "7e5fce5ea8d5486d80199bb76a7c3fb6": {
      "model_module": "@jupyter-widgets/controls",
      "model_module_version": "1.5.0",
      "model_name": "ButtonStyleModel",
      "state": {}
     },
     "7f4c13c5522b448c89be9d4a950b8107": {
      "model_module": "@jupyter-widgets/base",
      "model_module_version": "1.2.0",
      "model_name": "LayoutModel",
      "state": {
       "grid_area": "widget047",
       "height": "auto",
       "width": "auto"
      }
     },
     "7fb184f5049f4ba5b37178ac0b7f94df": {
      "model_module": "@jupyter-widgets/base",
      "model_module_version": "1.2.0",
      "model_name": "LayoutModel",
      "state": {
       "height": "auto",
       "width": "auto"
      }
     },
     "8129f9ad5dd14e94a82e68a6c1393dfb": {
      "model_module": "@jupyter-widgets/base",
      "model_module_version": "1.2.0",
      "model_name": "LayoutModel",
      "state": {
       "grid_area": "widget025",
       "height": "auto",
       "width": "auto"
      }
     },
     "836e42125ddc48cc99d9ffd5ddf46fde": {
      "model_module": "@jupyter-widgets/base",
      "model_module_version": "1.2.0",
      "model_name": "LayoutModel",
      "state": {
       "grid_area": "widget036",
       "height": "auto",
       "width": "auto"
      }
     },
     "84ec39515cd9437b8057d26629056a06": {
      "model_module": "@jupyter-widgets/base",
      "model_module_version": "1.2.0",
      "model_name": "LayoutModel",
      "state": {
       "grid_area": "widget024",
       "height": "auto",
       "width": "auto"
      }
     },
     "858137f00e7e4b2ba96cd8616e65e6b3": {
      "model_module": "@jupyter-widgets/base",
      "model_module_version": "1.2.0",
      "model_name": "LayoutModel",
      "state": {
       "grid_template_areas": "\"widget001 widget002 widget003 widget004 widget005 widget006 widget007 widget008\"\n\"widget009 widget010 widget011 widget012 widget013 widget014 widget015 widget016\"\n\"widget017 widget018 widget019 widget020 widget021 widget022 widget023 widget024\"\n\"widget025 widget026 widget027 widget028 widget029 widget030 widget031 widget032\"\n\"widget033 widget034 widget035 widget036 widget037 widget038 widget039 widget040\"\n\"widget041 widget042 widget043 widget044 widget045 widget046 widget047 widget048\"\n\"widget049 widget050 widget051 widget052 widget053 widget054 widget055 widget056\"",
       "grid_template_columns": "auto auto auto auto auto auto auto auto ",
       "grid_template_rows": "auto auto auto auto auto auto auto "
      }
     },
     "888e5650f5ba41408c0475552930a6e0": {
      "model_module": "@jupyter-widgets/base",
      "model_module_version": "1.2.0",
      "model_name": "LayoutModel",
      "state": {
       "grid_area": "widget022",
       "height": "auto",
       "width": "auto"
      }
     },
     "88a3c74eada245d8b7ed05a6a78831ea": {
      "model_module": "@jupyter-widgets/controls",
      "model_module_version": "1.5.0",
      "model_name": "GridBoxModel",
      "state": {
       "children": [
        "IPY_MODEL_ae6e85c41c494f6bbd0286a039d06119",
        "IPY_MODEL_c7add74fd66347de8ccdce40c7bee9ca",
        "IPY_MODEL_c94967c21c4f46838ed3a89531ba0a3e",
        "IPY_MODEL_4c1c6c2e1292438cb04f14e599414cfa",
        "IPY_MODEL_37a44d09d04a4575b1406d0580acdcaf",
        "IPY_MODEL_bce8868b7d94494fa665b444770cf1c5",
        "IPY_MODEL_76d07c2430f04baca1f727fc1f760f6d",
        "IPY_MODEL_6103c51820214fe2b5bd5374d27240c0",
        "IPY_MODEL_c4ca49a25e6d44879d705e24e9df03a9",
        "IPY_MODEL_e67d35fed95848e4a0b80fd98087a131",
        "IPY_MODEL_39831ad08d2a4c3e94af53d0e0c6888c",
        "IPY_MODEL_3e24e41d532d4ed5a8140e59fa5529e6",
        "IPY_MODEL_ffc8993272bf46e8be30f12153456757",
        "IPY_MODEL_996917dfe6184aea9ef602b762a47bcf",
        "IPY_MODEL_769165c9bf5c4cddb0d476d369300714",
        "IPY_MODEL_64a3ee4e99754041b17f9b632e0e5dae",
        "IPY_MODEL_17287d588695469280f7a39b7703e46b",
        "IPY_MODEL_c46238bd7f3b4b9c8884da9a418f9ccd",
        "IPY_MODEL_aac6d11c846c4b01bf89ea58cf34fd27",
        "IPY_MODEL_2f18d8ea405147498982202832c3c736",
        "IPY_MODEL_c97eb54facfe4b339ab99f54dbfbb796",
        "IPY_MODEL_67d5af1564084e268809bf0ba16a61c6",
        "IPY_MODEL_11a1a2ed661448f08f2109ad060497d1",
        "IPY_MODEL_e2485b5ac3614c1197eb3135562fa83e",
        "IPY_MODEL_ee4acd3ed9a24667bac0c5acc85e722b",
        "IPY_MODEL_b49bffa0c4a34ca2a2dde3b9be38d95c",
        "IPY_MODEL_4fe14145069c469e84a642a596b91845",
        "IPY_MODEL_3cc263f6c9ee40f6b9062d631492b9b7",
        "IPY_MODEL_cd2ef4071aae4d17a1b9702d2c23d312",
        "IPY_MODEL_f6b8a96d1e1149b2883669b4a95f8387",
        "IPY_MODEL_4b266435b6db498e839a0ec12bd4ac82",
        "IPY_MODEL_eab9b815257f48bab9cfb2fe8ab93b64",
        "IPY_MODEL_a44f4f88c4a04c3facf2f15e27abfba4",
        "IPY_MODEL_f4e1e0c09f214497b9d2bfc115b83e89",
        "IPY_MODEL_5eb33b3a7349456a893912bc050c5c98",
        "IPY_MODEL_128c6dfe8a9b4632bac7b876e8733f5c",
        "IPY_MODEL_71565ef3c8a84f58a7d456767a839514",
        "IPY_MODEL_0f2fddf476f745418a9df990f3f9a17a",
        "IPY_MODEL_4c9f8e7a3d2b431b80051c830bc71bb1",
        "IPY_MODEL_f2b41bc3a74f460dad79fa06305b5e4f",
        "IPY_MODEL_20afd2c3b678489cb964ae40472c737c",
        "IPY_MODEL_65447e8bc1d74eeab6ebfe275a2fdc32",
        "IPY_MODEL_8af7b96fbf8c42228d8426770abc2613",
        "IPY_MODEL_c45c167917f7489a844e3573493b7211",
        "IPY_MODEL_acac18f21e0b4da794c3980ed47fb4c7",
        "IPY_MODEL_bada311a0fcb4406881476130de7c38d",
        "IPY_MODEL_364e9d753eaa4dfeb8ec9881da4c1c8d",
        "IPY_MODEL_3d4b3aa3a28b4308a43c7acf685a4964",
        "IPY_MODEL_50594a62720045d489ec923113165026",
        "IPY_MODEL_e855dc5b6d6e4594b44ae704cf1cf2e1",
        "IPY_MODEL_6128db78834e4611a710751ff1843dd6",
        "IPY_MODEL_500f85484279432e80de8f4071fd92cb",
        "IPY_MODEL_e13caf1ab6d94a5c992a67cf00ac43e5",
        "IPY_MODEL_29c80aa1ee57452886fc32dd1b400413",
        "IPY_MODEL_0758a9c24fc3440c8e968c62f31a7aee",
        "IPY_MODEL_f0bb28f962404affadbaf4ee029d2a96"
       ],
       "layout": "IPY_MODEL_858137f00e7e4b2ba96cd8616e65e6b3"
      }
     },
     "891a18026b88422cbc2a517068849312": {
      "model_module": "@jupyter-widgets/base",
      "model_module_version": "1.2.0",
      "model_name": "LayoutModel",
      "state": {
       "grid_area": "widget045",
       "height": "auto",
       "width": "auto"
      }
     },
     "8af7b96fbf8c42228d8426770abc2613": {
      "model_module": "@jupyter-widgets/controls",
      "model_module_version": "1.5.0",
      "model_name": "LabelModel",
      "state": {
       "layout": "IPY_MODEL_e3958e59bac849108b4aab3aeedc8360",
       "style": "IPY_MODEL_1c3baf314eba4800b40f84db936d58d4",
       "value": "dond_example"
      }
     },
     "8cc1824d659a403a888f975970e3a55d": {
      "model_module": "@jupyter-widgets/base",
      "model_module_version": "1.2.0",
      "model_name": "LayoutModel",
      "state": {
       "grid_area": "widget018",
       "height": "auto",
       "width": "auto"
      }
     },
     "8cee26896bdd490b93e2a2dd207d0776": {
      "model_module": "@jupyter-widgets/base",
      "model_module_version": "1.2.0",
      "model_name": "LayoutModel",
      "state": {
       "grid_area": "widget042",
       "height": "auto",
       "width": "auto"
      }
     },
     "91bf4503f19a45d5b44fc80b38dc3499": {
      "model_module": "@jupyter-widgets/base",
      "model_module_version": "1.2.0",
      "model_name": "LayoutModel",
      "state": {
       "grid_area": "widget015",
       "height": "auto",
       "width": "auto"
      }
     },
     "93a16beb2eec495f9f2943bdeec97363": {
      "model_module": "@jupyter-widgets/controls",
      "model_module_version": "1.5.0",
      "model_name": "ButtonStyleModel",
      "state": {}
     },
     "943b52812bca401c936cd1e04511633b": {
      "model_module": "@jupyter-widgets/base",
      "model_module_version": "1.2.0",
      "model_name": "LayoutModel",
      "state": {
       "height": "auto",
       "width": "auto"
      }
     },
     "950d86b90c194f9fae88c9174db8c587": {
      "model_module": "@jupyter-widgets/controls",
      "model_module_version": "1.5.0",
      "model_name": "ButtonStyleModel",
      "state": {}
     },
     "9798fd1d5b784282a4067130d17106ab": {
      "model_module": "@jupyter-widgets/controls",
      "model_module_version": "1.5.0",
      "model_name": "ButtonStyleModel",
      "state": {}
     },
     "9870bec495844367b10e415e6b15dbaf": {
      "model_module": "@jupyter-widgets/base",
      "model_module_version": "1.2.0",
      "model_name": "LayoutModel",
      "state": {
       "height": "auto",
       "width": "auto"
      }
     },
     "9883da4c05f94777b2eb7bc2293a9963": {
      "model_module": "@jupyter-widgets/controls",
      "model_module_version": "1.5.0",
      "model_name": "ButtonModel",
      "state": {
       "button_style": "success",
       "description": "dac_ch1,dmm_v1",
       "layout": "IPY_MODEL_9870bec495844367b10e415e6b15dbaf",
       "style": "IPY_MODEL_147a4371064548de81777aadd9c1f6a7",
       "tooltip": "dac_ch1,dmm_v1"
      }
     },
     "996917dfe6184aea9ef602b762a47bcf": {
      "model_module": "@jupyter-widgets/controls",
      "model_module_version": "1.5.0",
      "model_name": "VBoxModel",
      "state": {
       "children": [
        "IPY_MODEL_c1fa2c45fb054cad815c361f2439de5d"
       ],
       "layout": "IPY_MODEL_2087c7b2d7674693bc40e3d4da5ff819"
      }
     },
     "9981f390cc1140f6bf17a580b573eff4": {
      "model_module": "@jupyter-widgets/base",
      "model_module_version": "1.2.0",
      "model_name": "LayoutModel",
      "state": {
       "height": "auto",
       "width": "auto"
      }
     },
     "9b74947de3884b84806dbe3d95024955": {
      "model_module": "@jupyter-widgets/controls",
      "model_module_version": "1.5.0",
      "model_name": "ButtonStyleModel",
      "state": {}
     },
     "9c96711ff8a34f9796b4082c180d2cd8": {
      "model_module": "@jupyter-widgets/controls",
      "model_module_version": "1.5.0",
      "model_name": "ButtonStyleModel",
      "state": {}
     },
     "9cf0ea6c7dd2485895405871e2a7d2eb": {
      "model_module": "@jupyter-widgets/base",
      "model_module_version": "1.2.0",
      "model_name": "LayoutModel",
      "state": {
       "height": "auto",
       "width": "auto"
      }
     },
     "9f3f130dc9ce4ffbb7c435868cb6dd16": {
      "model_module": "@jupyter-widgets/base",
      "model_module_version": "1.2.0",
      "model_name": "LayoutModel",
      "state": {
       "height": "auto",
       "width": "auto"
      }
     },
     "9fffbfde565841b9a4717c042fe38e33": {
      "model_module": "@jupyter-widgets/controls",
      "model_module_version": "1.5.0",
      "model_name": "ButtonStyleModel",
      "state": {}
     },
     "a146a24c7e644eb38b94aab50ced4c5e": {
      "model_module": "@jupyter-widgets/base",
      "model_module_version": "1.2.0",
      "model_name": "LayoutModel",
      "state": {
       "grid_area": "widget026",
       "height": "auto",
       "width": "auto"
      }
     },
     "a1ab6035508244e0bed7ac261c82e52c": {
      "model_module": "@jupyter-widgets/controls",
      "model_module_version": "1.5.0",
      "model_name": "ButtonStyleModel",
      "state": {}
     },
     "a24c6f2ee1664ba29dc38dc342a7e3ea": {
      "model_module": "@jupyter-widgets/controls",
      "model_module_version": "1.5.0",
      "model_name": "ButtonModel",
      "state": {
       "button_style": "success",
       "description": "tutorial_exp, synthetic data",
       "layout": "IPY_MODEL_7fb184f5049f4ba5b37178ac0b7f94df",
       "style": "IPY_MODEL_6a53dc39b2aa4e7e957211cf5b35152d",
       "tooltip": "tutorial_exp, synthetic data"
      }
     },
     "a3e80aceaf6348a8b263e204c59fda50": {
      "model_module": "@jupyter-widgets/controls",
      "model_module_version": "1.5.0",
      "model_name": "DescriptionStyleModel",
      "state": {
       "description_width": ""
      }
     },
     "a44f4f88c4a04c3facf2f15e27abfba4": {
      "model_module": "@jupyter-widgets/controls",
      "model_module_version": "1.5.0",
      "model_name": "VBoxModel",
      "state": {
       "children": [
        "IPY_MODEL_328de8905bd04a6289167ea78a0a90f5"
       ],
       "layout": "IPY_MODEL_cfeb9d204da34f7897c14f93905630ae"
      }
     },
     "a4973b84eb104dea9e09732e1531ce99": {
      "model_module": "@jupyter-widgets/base",
      "model_module_version": "1.2.0",
      "model_name": "LayoutModel",
      "state": {
       "grid_area": "widget008",
       "height": "auto",
       "width": "auto"
      }
     },
     "a4a3bbfad58043a991e52aedb63166e8": {
      "model_module": "@jupyter-widgets/controls",
      "model_module_version": "1.5.0",
      "model_name": "ButtonStyleModel",
      "state": {}
     },
     "a4b814ec91c04f688f4230e39b97551e": {
      "model_module": "@jupyter-widgets/controls",
      "model_module_version": "1.5.0",
      "model_name": "ButtonModel",
      "state": {
       "button_style": "success",
       "description": "dac_ch1,dac_ch2,dmm_v1,dmm_v2",
       "layout": "IPY_MODEL_e1a3d66b73d24140bc71fcebdaa11f9f",
       "style": "IPY_MODEL_f489ac4b8fc34138b9609c095d6b690f",
       "tooltip": "dac_ch1,dac_ch2,dmm_v1,dmm_v2"
      }
     },
     "a598e9bbbf8c48afba9d3cf03bbcbd48": {
      "model_module": "@jupyter-widgets/controls",
      "model_module_version": "1.5.0",
      "model_name": "ButtonStyleModel",
      "state": {}
     },
     "a682f0c022634160adc91e0ed91c956a": {
      "model_module": "@jupyter-widgets/controls",
      "model_module_version": "1.5.0",
      "model_name": "ButtonModel",
      "state": {
       "button_style": "success",
       "description": "2",
       "layout": "IPY_MODEL_9cf0ea6c7dd2485895405871e2a7d2eb",
       "style": "IPY_MODEL_008ddf0133984bfb8888c46f5d695058",
       "tooltip": "2"
      }
     },
     "a7f6501890af4745af2757af8eaeab41": {
      "model_module": "@jupyter-widgets/controls",
      "model_module_version": "1.5.0",
      "model_name": "ButtonModel",
      "state": {
       "button_style": "success",
       "icon": "edit",
       "layout": "IPY_MODEL_71f1f29cb08949b0b9f017e939047944",
       "style": "IPY_MODEL_d348013b254b43e09ec0f29dd2fbca8f"
      }
     },
     "a986474758014596ad5947f258d45d9b": {
      "model_module": "@jupyter-widgets/controls",
      "model_module_version": "1.5.0",
      "model_name": "ButtonModel",
      "state": {
       "button_style": "success",
       "description": "2022-02-28 11:57:16",
       "layout": "IPY_MODEL_731f2af140e540c18d8a56b71b291936",
       "style": "IPY_MODEL_dbe915b15eec4fe4adee4476082cfeaf",
       "tooltip": "2022-02-28 11:57:16"
      }
     },
     "a9a391a937474c00ba4514a693a42635": {
      "model_module": "@jupyter-widgets/base",
      "model_module_version": "1.2.0",
      "model_name": "LayoutModel",
      "state": {
       "grid_area": "widget038",
       "height": "auto",
       "width": "auto"
      }
     },
     "a9a6761b89a249d098581e39120a3790": {
      "model_module": "@jupyter-widgets/base",
      "model_module_version": "1.2.0",
      "model_name": "LayoutModel",
      "state": {
       "height": "auto",
       "width": "auto"
      }
     },
     "a9bc1604f489402797e1f8a95b97df18": {
      "model_module": "@jupyter-widgets/controls",
      "model_module_version": "1.5.0",
      "model_name": "ButtonModel",
      "state": {
       "button_style": "success",
       "description": "dac_ch1,dac_ch2,dmm_v1,dmm_v2",
       "layout": "IPY_MODEL_eb2c001accf044cf8c745155c55a3716",
       "style": "IPY_MODEL_20d63f170ff546b5a018a4e29a3ec5f6",
       "tooltip": "dac_ch1,dac_ch2,dmm_v1,dmm_v2"
      }
     },
     "a9f1e7056ce64610b0eb3c4e9971656d": {
      "model_module": "@jupyter-widgets/controls",
      "model_module_version": "1.5.0",
      "model_name": "ButtonModel",
      "state": {
       "button_style": "success",
       "description": "5",
       "layout": "IPY_MODEL_a9a6761b89a249d098581e39120a3790",
       "style": "IPY_MODEL_a4a3bbfad58043a991e52aedb63166e8",
       "tooltip": "5"
      }
     },
     "aac6d11c846c4b01bf89ea58cf34fd27": {
      "model_module": "@jupyter-widgets/controls",
      "model_module_version": "1.5.0",
      "model_name": "LabelModel",
      "state": {
       "layout": "IPY_MODEL_2dd62d894bef4b368b947b67c37c4342",
       "style": "IPY_MODEL_6268f62313a64bd98783343a7c1f3fdd",
       "value": "context_example"
      }
     },
     "aaf1bb2548144c0bb8266a610fbb7eae": {
      "model_module": "@jupyter-widgets/controls",
      "model_module_version": "1.5.0",
      "model_name": "ButtonModel",
      "state": {
       "button_style": "success",
       "description": "dac_ch1,dmm_v1",
       "layout": "IPY_MODEL_6d344637ec104ebb8a7aedb0fa28143f",
       "style": "IPY_MODEL_02688342bee349bc9a502c61bb6e54ee",
       "tooltip": "dac_ch1,dmm_v1"
      }
     },
     "aba60a869abd4035a559164540eb6c15": {
      "model_module": "@jupyter-widgets/base",
      "model_module_version": "1.2.0",
      "model_name": "LayoutModel",
      "state": {
       "grid_area": "widget056",
       "height": "auto",
       "width": "auto"
      }
     },
     "acac18f21e0b4da794c3980ed47fb4c7": {
      "model_module": "@jupyter-widgets/controls",
      "model_module_version": "1.5.0",
      "model_name": "VBoxModel",
      "state": {
       "children": [
        "IPY_MODEL_600eeff88ef94a20a9375ac6607b06aa"
       ],
       "layout": "IPY_MODEL_891a18026b88422cbc2a517068849312"
      }
     },
     "ad3070cca3b14fb79f6aac004563f550": {
      "model_module": "@jupyter-widgets/base",
      "model_module_version": "1.2.0",
      "model_name": "LayoutModel",
      "state": {
       "height": "auto",
       "width": "auto"
      }
     },
     "ae6e85c41c494f6bbd0286a039d06119": {
      "model_module": "@jupyter-widgets/controls",
      "model_module_version": "1.5.0",
      "model_name": "ButtonModel",
      "state": {
       "button_style": "info",
       "description": "Run ID",
       "layout": "IPY_MODEL_576daa673aab4968941ae09c8579b77a",
       "style": "IPY_MODEL_481220ee79594e3ca1a159a30e8a9d22",
       "tooltip": "Run ID"
      }
     },
     "af39bcabe6244aafacaa554d7ab085ad": {
      "model_module": "@jupyter-widgets/controls",
      "model_module_version": "1.5.0",
      "model_name": "ButtonStyleModel",
      "state": {}
     },
     "b14f6772770e48ff96afbf70963ef0c9": {
      "model_module": "@jupyter-widgets/base",
      "model_module_version": "1.2.0",
      "model_name": "LayoutModel",
      "state": {
       "grid_area": "widget052",
       "height": "auto",
       "width": "auto"
      }
     },
     "b32058de4d0944579546d25e4e3a0188": {
      "model_module": "@jupyter-widgets/base",
      "model_module_version": "1.2.0",
      "model_name": "LayoutModel",
      "state": {
       "grid_area": "widget044",
       "height": "auto",
       "width": "auto"
      }
     },
     "b37660c9d149494aa9371319fc292fd3": {
      "model_module": "@jupyter-widgets/controls",
      "model_module_version": "1.5.0",
      "model_name": "ButtonStyleModel",
      "state": {}
     },
     "b37af9f4b6f041d1b34dce053d385c75": {
      "model_module": "@jupyter-widgets/controls",
      "model_module_version": "1.5.0",
      "model_name": "ButtonStyleModel",
      "state": {}
     },
     "b3d7726d6dba4ee3aebe9a4e710db51d": {
      "model_module": "@jupyter-widgets/base",
      "model_module_version": "1.2.0",
      "model_name": "LayoutModel",
      "state": {
       "grid_area": "widget048",
       "height": "auto",
       "width": "auto"
      }
     },
     "b49bffa0c4a34ca2a2dde3b9be38d95c": {
      "model_module": "@jupyter-widgets/controls",
      "model_module_version": "1.5.0",
      "model_name": "VBoxModel",
      "state": {
       "children": [
        "IPY_MODEL_681e09b457094933bde4c581d85c2719"
       ],
       "layout": "IPY_MODEL_a146a24c7e644eb38b94aab50ced4c5e"
      }
     },
     "b54fd1fe98474a69bb255dba8c6a1006": {
      "model_module": "@jupyter-widgets/controls",
      "model_module_version": "1.5.0",
      "model_name": "VBoxModel",
      "state": {
       "children": [
        "IPY_MODEL_05fbe214ed884567b0212aeb6ad38a0a",
        "IPY_MODEL_f151427c40d04719a62d3dcc22288640",
        "IPY_MODEL_88a3c74eada245d8b7ed05a6a78831ea"
       ],
       "layout": "IPY_MODEL_fa2fc00423c0469f8feca94694951afc"
      }
     },
     "b5bbe4a29c0c444e9d4ecd80c1668b70": {
      "model_module": "@jupyter-widgets/controls",
      "model_module_version": "1.5.0",
      "model_name": "ButtonModel",
      "state": {
       "button_style": "success",
       "description": "tutorial_exp, synthetic data",
       "layout": "IPY_MODEL_e204dd991a30448e8e5d3479fd26f06d",
       "style": "IPY_MODEL_edf44fb784734c87b3c2c8aea6694f9d",
       "tooltip": "tutorial_exp, synthetic data"
      }
     },
     "b615332aa8fb43f39d2367f4aee425b2": {
      "model_module": "@jupyter-widgets/controls",
      "model_module_version": "1.5.0",
      "model_name": "ButtonStyleModel",
      "state": {}
     },
     "b63216b564384249886f456c0c5ecd19": {
      "model_module": "@jupyter-widgets/controls",
      "model_module_version": "1.5.0",
      "model_name": "HTMLModel",
      "state": {
       "layout": "IPY_MODEL_bb0d97f5fbb1404da3de6aba5a2f9368",
       "style": "IPY_MODEL_54008a8d811948699b21e8301550f815",
       "value": "100%"
      }
     },
     "b7a8758809594a4e9460394e891923e4": {
      "model_module": "@jupyter-widgets/base",
      "model_module_version": "1.2.0",
      "model_name": "LayoutModel",
      "state": {
       "grid_area": "widget005",
       "height": "auto",
       "width": "auto"
      }
     },
     "b828d008f3854a479c70a31c27e43bf2": {
      "model_module": "@jupyter-widgets/base",
      "model_module_version": "1.2.0",
      "model_name": "LayoutModel",
      "state": {
       "grid_area": "widget039",
       "height": "auto",
       "width": "auto"
      }
     },
     "b8a994c9f2dd42cfb53b050e7e8ef18a": {
      "model_module": "@jupyter-widgets/base",
      "model_module_version": "1.2.0",
      "model_name": "LayoutModel",
      "state": {
       "grid_area": "widget012",
       "height": "auto",
       "width": "auto"
      }
     },
     "b94a8b118ed74f06b73dc19e43627907": {
      "model_module": "@jupyter-widgets/base",
      "model_module_version": "1.2.0",
      "model_name": "LayoutModel",
      "state": {}
     },
     "bada311a0fcb4406881476130de7c38d": {
      "model_module": "@jupyter-widgets/controls",
      "model_module_version": "1.5.0",
      "model_name": "VBoxModel",
      "state": {
       "children": [
        "IPY_MODEL_31beebacd87f46d39a42fb1e57a4f219"
       ],
       "layout": "IPY_MODEL_00e8ffb3845244a69b263719aa57e420"
      }
     },
     "bb0d97f5fbb1404da3de6aba5a2f9368": {
      "model_module": "@jupyter-widgets/base",
      "model_module_version": "1.2.0",
      "model_name": "LayoutModel",
      "state": {}
     },
     "bc2b8395fdbd4f889065a725730a32be": {
      "model_module": "@jupyter-widgets/controls",
      "model_module_version": "1.5.0",
      "model_name": "DescriptionStyleModel",
      "state": {
       "description_width": ""
      }
     },
     "bcce46bc1b8b48bc904f0af11f7b60dd": {
      "model_module": "@jupyter-widgets/controls",
      "model_module_version": "1.5.0",
      "model_name": "ButtonStyleModel",
      "state": {}
     },
     "bce8868b7d94494fa665b444770cf1c5": {
      "model_module": "@jupyter-widgets/controls",
      "model_module_version": "1.5.0",
      "model_name": "ButtonModel",
      "state": {
       "button_style": "info",
       "description": "Notes",
       "layout": "IPY_MODEL_5c848bf7d44a4aaa9a76da7b3846b54b",
       "style": "IPY_MODEL_c9f3fcf3b8e74dceb426eb6bcff9b431",
       "tooltip": "Notes"
      }
     },
     "bee6ade5f7934ae4b23262a0d1a1dc84": {
      "model_module": "@jupyter-widgets/controls",
      "model_module_version": "1.5.0",
      "model_name": "ButtonStyleModel",
      "state": {}
     },
     "c0fb5841a2ea4cbc9fbfc40e372151e4": {
      "model_module": "@jupyter-widgets/output",
      "model_module_version": "1.0.0",
      "model_name": "OutputModel",
      "state": {
       "layout": "IPY_MODEL_720a389ba6924e4984fd697ccbd9667b",
       "outputs": [
        {
         "name": "stdout",
         "output_type": "stream",
         "text": "Plots and snapshots will show up here!\n"
        }
       ]
      }
     },
     "c1fa2c45fb054cad815c361f2439de5d": {
      "model_module": "@jupyter-widgets/controls",
      "model_module_version": "1.5.0",
      "model_name": "ButtonModel",
      "state": {
       "button_style": "success",
       "icon": "edit",
       "layout": "IPY_MODEL_e35163cdfcda4dc5ae0ec3876057c327",
       "style": "IPY_MODEL_dfdf6f57dcea4564913c3c8a36ffd347"
      }
     },
     "c45c167917f7489a844e3573493b7211": {
      "model_module": "@jupyter-widgets/controls",
      "model_module_version": "1.5.0",
      "model_name": "VBoxModel",
      "state": {
       "children": [
        "IPY_MODEL_a9bc1604f489402797e1f8a95b97df18"
       ],
       "layout": "IPY_MODEL_b32058de4d0944579546d25e4e3a0188"
      }
     },
     "c46238bd7f3b4b9c8884da9a418f9ccd": {
      "model_module": "@jupyter-widgets/controls",
      "model_module_version": "1.5.0",
      "model_name": "VBoxModel",
      "state": {
       "children": [
        "IPY_MODEL_f9dc3eaf321041e083caeb424b5920cc"
       ],
       "layout": "IPY_MODEL_8cc1824d659a403a888f975970e3a55d"
      }
     },
     "c4ca49a25e6d44879d705e24e9df03a9": {
      "model_module": "@jupyter-widgets/controls",
      "model_module_version": "1.5.0",
      "model_name": "VBoxModel",
      "state": {
       "children": [
        "IPY_MODEL_27d69751bb064d5ebd2531f627b3946b"
       ],
       "layout": "IPY_MODEL_cc96f92055f74718b3def912a9c1b664"
      }
     },
     "c61bb50525844b1b8093bc304377dba4": {
      "model_module": "@jupyter-widgets/base",
      "model_module_version": "1.2.0",
      "model_name": "LayoutModel",
      "state": {
       "height": "auto",
       "width": "auto"
      }
     },
     "c6856c062e80496dbcc3706af459011e": {
      "model_module": "@jupyter-widgets/base",
      "model_module_version": "1.2.0",
      "model_name": "LayoutModel",
      "state": {
       "height": "auto",
       "width": "auto"
      }
     },
     "c7add74fd66347de8ccdce40c7bee9ca": {
      "model_module": "@jupyter-widgets/controls",
      "model_module_version": "1.5.0",
      "model_name": "ButtonModel",
      "state": {
       "button_style": "info",
       "description": "Experiment",
       "layout": "IPY_MODEL_63b8ece8d4224a73aa9e5f723cd5a479",
       "style": "IPY_MODEL_3a7f26d3693d4ca9ae4b56d57c86d878",
       "tooltip": "Experiment"
      }
     },
     "c85ac998e29f46adbaeaf443ba9edfa2": {
      "model_module": "@jupyter-widgets/base",
      "model_module_version": "1.2.0",
      "model_name": "LayoutModel",
      "state": {
       "height": "auto",
       "width": "auto"
      }
     },
     "c94967c21c4f46838ed3a89531ba0a3e": {
      "model_module": "@jupyter-widgets/controls",
      "model_module_version": "1.5.0",
      "model_name": "ButtonModel",
      "state": {
       "button_style": "info",
       "description": "Name",
       "layout": "IPY_MODEL_5af9f35ecadb492fa6135c78efcf5643",
       "style": "IPY_MODEL_9b74947de3884b84806dbe3d95024955",
       "tooltip": "Name"
      }
     },
     "c97eb54facfe4b339ab99f54dbfbb796": {
      "model_module": "@jupyter-widgets/controls",
      "model_module_version": "1.5.0",
      "model_name": "VBoxModel",
      "state": {
       "children": [
        "IPY_MODEL_d7ef591d31f8482b8243a3c50e69ecfe"
       ],
       "layout": "IPY_MODEL_3ecee6abbf7a47d3938943810b927503"
      }
     },
     "c9f3fcf3b8e74dceb426eb6bcff9b431": {
      "model_module": "@jupyter-widgets/controls",
      "model_module_version": "1.5.0",
      "model_name": "ButtonStyleModel",
      "state": {}
     },
     "cb94d7f63f924bc7b36f93bd1403f579": {
      "model_module": "@jupyter-widgets/controls",
      "model_module_version": "1.5.0",
      "model_name": "ButtonStyleModel",
      "state": {}
     },
     "cc96f92055f74718b3def912a9c1b664": {
      "model_module": "@jupyter-widgets/base",
      "model_module_version": "1.2.0",
      "model_name": "LayoutModel",
      "state": {
       "grid_area": "widget009",
       "height": "auto",
       "width": "auto"
      }
     },
     "cd2ef4071aae4d17a1b9702d2c23d312": {
      "model_module": "@jupyter-widgets/controls",
      "model_module_version": "1.5.0",
      "model_name": "VBoxModel",
      "state": {
       "children": [
        "IPY_MODEL_5757ab66a05f4916a063887fe59a0651"
       ],
       "layout": "IPY_MODEL_3dafea22bc1246b89cfd2b796d6225fa"
      }
     },
     "cf7733e6a54849ea96225d63f3c8054d": {
      "model_module": "@jupyter-widgets/controls",
      "model_module_version": "1.5.0",
      "model_name": "FloatProgressModel",
      "state": {
       "bar_style": "success",
       "layout": "IPY_MODEL_7c5edfb2e3c94d6f8aef4698e9933a22",
       "max": 400,
       "style": "IPY_MODEL_3ff70e610ed14a0a862adf4b2e45c3b8",
       "value": 400
      }
     },
     "cfeb9d204da34f7897c14f93905630ae": {
      "model_module": "@jupyter-widgets/base",
      "model_module_version": "1.2.0",
      "model_name": "LayoutModel",
      "state": {
       "grid_area": "widget033",
       "height": "auto",
       "width": "auto"
      }
     },
     "d12d6cd5d1d54ce8a282a68cc8a5a9d8": {
      "model_module": "@jupyter-widgets/base",
      "model_module_version": "1.2.0",
      "model_name": "LayoutModel",
      "state": {
       "grid_area": "widget037",
       "height": "auto",
       "width": "auto"
      }
     },
     "d1dbb7c269914b3096ddbe7479c91897": {
      "model_module": "@jupyter-widgets/base",
      "model_module_version": "1.2.0",
      "model_name": "LayoutModel",
      "state": {
       "height": "auto",
       "width": "auto"
      }
     },
     "d348013b254b43e09ec0f29dd2fbca8f": {
      "model_module": "@jupyter-widgets/controls",
      "model_module_version": "1.5.0",
      "model_name": "ButtonStyleModel",
      "state": {}
     },
     "d483c40cff4f4ab5b3e4187962bd084a": {
      "model_module": "@jupyter-widgets/controls",
      "model_module_version": "1.5.0",
      "model_name": "ButtonModel",
      "state": {
       "button_style": "success",
       "description": "dac_ch1,dac_ch2,dmm_v1,dmm_v2",
       "layout": "IPY_MODEL_943b52812bca401c936cd1e04511633b",
       "style": "IPY_MODEL_433081ea78ac4c9a9bc383de1de7fa81",
       "tooltip": "dac_ch1,dac_ch2,dmm_v1,dmm_v2"
      }
     },
     "d51c156ef8ee4fb29c371e8405702c21": {
      "model_module": "@jupyter-widgets/controls",
      "model_module_version": "1.5.0",
      "model_name": "ButtonStyleModel",
      "state": {}
     },
     "d5898c27e1f94c8b9914cee2bb667122": {
      "model_module": "@jupyter-widgets/controls",
      "model_module_version": "1.5.0",
      "model_name": "ButtonStyleModel",
      "state": {}
     },
     "d614d4ac5e97484db1e29f088d5ba152": {
      "model_module": "@jupyter-widgets/base",
      "model_module_version": "1.2.0",
      "model_name": "LayoutModel",
      "state": {
       "grid_area": "widget049",
       "height": "auto",
       "width": "auto"
      }
     },
     "d7ef591d31f8482b8243a3c50e69ecfe": {
      "model_module": "@jupyter-widgets/controls",
      "model_module_version": "1.5.0",
      "model_name": "ButtonModel",
      "state": {
       "button_style": "success",
       "description": "2022-03-03 12:10:02",
       "layout": "IPY_MODEL_c61bb50525844b1b8093bc304377dba4",
       "style": "IPY_MODEL_0ec061fdd0984e39b910f7ea0c48de13",
       "tooltip": "2022-03-03 12:10:02"
      }
     },
     "d83c36d75ef543f4bb1ccb50d195f49a": {
      "model_module": "@jupyter-widgets/controls",
      "model_module_version": "1.5.0",
      "model_name": "DescriptionStyleModel",
      "state": {
       "description_width": ""
      }
     },
     "d84dfa93d8b247389969068a5f5a4b78": {
      "model_module": "@jupyter-widgets/controls",
      "model_module_version": "1.5.0",
      "model_name": "ButtonStyleModel",
      "state": {}
     },
     "dbe915b15eec4fe4adee4476082cfeaf": {
      "model_module": "@jupyter-widgets/controls",
      "model_module_version": "1.5.0",
      "model_name": "ButtonStyleModel",
      "state": {}
     },
     "dc41b8c20b924c69992aab2679c7281e": {
      "model_module": "@jupyter-widgets/controls",
      "model_module_version": "1.5.0",
      "model_name": "DescriptionStyleModel",
      "state": {
       "description_width": ""
      }
     },
     "de7788c7155c467ea88a16c58917e9c9": {
      "model_module": "@jupyter-widgets/controls",
      "model_module_version": "1.5.0",
      "model_name": "DescriptionStyleModel",
      "state": {
       "description_width": ""
      }
     },
     "dfdf6f57dcea4564913c3c8a36ffd347": {
      "model_module": "@jupyter-widgets/controls",
      "model_module_version": "1.5.0",
      "model_name": "ButtonStyleModel",
      "state": {}
     },
     "e13caf1ab6d94a5c992a67cf00ac43e5": {
      "model_module": "@jupyter-widgets/controls",
      "model_module_version": "1.5.0",
      "model_name": "VBoxModel",
      "state": {
       "children": [
        "IPY_MODEL_a986474758014596ad5947f258d45d9b"
       ],
       "layout": "IPY_MODEL_7357e0d879594701a22ccce54abffa05"
      }
     },
     "e1a3d66b73d24140bc71fcebdaa11f9f": {
      "model_module": "@jupyter-widgets/base",
      "model_module_version": "1.2.0",
      "model_name": "LayoutModel",
      "state": {
       "height": "auto",
       "width": "auto"
      }
     },
     "e1eed0df78eb4eeb86f34ed3bfbf8ffd": {
      "model_module": "@jupyter-widgets/base",
      "model_module_version": "1.2.0",
      "model_name": "LayoutModel",
      "state": {
       "grid_area": "widget016",
       "height": "auto",
       "width": "auto"
      }
     },
     "e204dd991a30448e8e5d3479fd26f06d": {
      "model_module": "@jupyter-widgets/base",
      "model_module_version": "1.2.0",
      "model_name": "LayoutModel",
      "state": {
       "height": "auto",
       "width": "auto"
      }
     },
     "e2485b5ac3614c1197eb3135562fa83e": {
      "model_module": "@jupyter-widgets/controls",
      "model_module_version": "1.5.0",
      "model_name": "ButtonModel",
      "state": {
       "button_style": "warning",
       "icon": "line-chart",
       "layout": "IPY_MODEL_84ec39515cd9437b8057d26629056a06",
       "style": "IPY_MODEL_2afb6a62ad5e40a2a7715b5595c06625",
       "tooltip": "Click to open this DataSet's plot in a tab above."
      }
     },
     "e2cf8578ecce4cb39578018f0498b6f5": {
      "model_module": "@jupyter-widgets/controls",
      "model_module_version": "1.5.0",
      "model_name": "DescriptionStyleModel",
      "state": {
       "description_width": ""
      }
     },
     "e35163cdfcda4dc5ae0ec3876057c327": {
      "model_module": "@jupyter-widgets/base",
      "model_module_version": "1.2.0",
      "model_name": "LayoutModel",
      "state": {
       "height": "auto",
       "width": "auto"
      }
     },
     "e361a4ef4c854ee0b1ec0a37d01e7164": {
      "model_module": "@jupyter-widgets/base",
      "model_module_version": "1.2.0",
      "model_name": "LayoutModel",
      "state": {}
     },
     "e3958e59bac849108b4aab3aeedc8360": {
      "model_module": "@jupyter-widgets/base",
      "model_module_version": "1.2.0",
      "model_name": "LayoutModel",
      "state": {
       "grid_area": "widget043",
       "height": "max-content",
       "width": "auto"
      }
     },
     "e67d35fed95848e4a0b80fd98087a131": {
      "model_module": "@jupyter-widgets/controls",
      "model_module_version": "1.5.0",
      "model_name": "VBoxModel",
      "state": {
       "children": [
        "IPY_MODEL_f1b4870e7cf74cc981643f003cc7c2e6"
       ],
       "layout": "IPY_MODEL_027edb7bd197485586016be56b28afb4"
      }
     },
     "e7af9982173649ad8a6797293d609c8d": {
      "model_module": "@jupyter-widgets/base",
      "model_module_version": "1.2.0",
      "model_name": "LayoutModel",
      "state": {
       "height": "auto",
       "width": "auto"
      }
     },
     "e855dc5b6d6e4594b44ae704cf1cf2e1": {
      "model_module": "@jupyter-widgets/controls",
      "model_module_version": "1.5.0",
      "model_name": "VBoxModel",
      "state": {
       "children": [
        "IPY_MODEL_a24c6f2ee1664ba29dc38dc342a7e3ea"
       ],
       "layout": "IPY_MODEL_fa381e10d2474c5f8ce4aac33729ffd9"
      }
     },
     "e99a0e3dcbe944b893935efc759bc860": {
      "model_module": "@jupyter-widgets/controls",
      "model_module_version": "1.5.0",
      "model_name": "ButtonStyleModel",
      "state": {}
     },
     "eab9b815257f48bab9cfb2fe8ab93b64": {
      "model_module": "@jupyter-widgets/controls",
      "model_module_version": "1.5.0",
      "model_name": "ButtonModel",
      "state": {
       "button_style": "warning",
       "icon": "line-chart",
       "layout": "IPY_MODEL_15bc1b86c6fd40cc8a31c0d5208d2bac",
       "style": "IPY_MODEL_11f36f64bd59439387d7fa3db19f9d8a",
       "tooltip": "Click to open this DataSet's plot in a tab above."
      }
     },
     "eb2c001accf044cf8c745155c55a3716": {
      "model_module": "@jupyter-widgets/base",
      "model_module_version": "1.2.0",
      "model_name": "LayoutModel",
      "state": {
       "height": "auto",
       "width": "auto"
      }
     },
     "eb389048b3c34b08bc4e0f23a11fe16c": {
      "model_module": "@jupyter-widgets/base",
      "model_module_version": "1.2.0",
      "model_name": "LayoutModel",
      "state": {
       "grid_area": "widget031",
       "height": "auto",
       "width": "auto"
      }
     },
     "ed09e15f352b40b79fdfc02f281dbd69": {
      "model_module": "@jupyter-widgets/controls",
      "model_module_version": "1.5.0",
      "model_name": "ButtonModel",
      "state": {
       "button_style": "success",
       "description": "dac_ch1,dac_ch2,dmm_v1,dmm_v2",
       "layout": "IPY_MODEL_d1dbb7c269914b3096ddbe7479c91897",
       "style": "IPY_MODEL_d5898c27e1f94c8b9914cee2bb667122",
       "tooltip": "dac_ch1,dac_ch2,dmm_v1,dmm_v2"
      }
     },
     "edc7eeb74842474fbe330acc877fd046": {
      "model_module": "@jupyter-widgets/controls",
      "model_module_version": "1.5.0",
      "model_name": "ButtonModel",
      "state": {
       "button_style": "success",
       "description": "2022-03-03 12:10:02",
       "layout": "IPY_MODEL_6ecb7c4aa402438e8c9e65d44d8c2921",
       "style": "IPY_MODEL_d51c156ef8ee4fb29c371e8405702c21",
       "tooltip": "2022-03-03 12:10:02"
      }
     },
     "edf44fb784734c87b3c2c8aea6694f9d": {
      "model_module": "@jupyter-widgets/controls",
      "model_module_version": "1.5.0",
      "model_name": "ButtonStyleModel",
      "state": {}
     },
     "ee4acd3ed9a24667bac0c5acc85e722b": {
      "model_module": "@jupyter-widgets/controls",
      "model_module_version": "1.5.0",
      "model_name": "VBoxModel",
      "state": {
       "children": [
        "IPY_MODEL_6b7d6b9e26c5435d85926636f980a776"
       ],
       "layout": "IPY_MODEL_8129f9ad5dd14e94a82e68a6c1393dfb"
      }
     },
     "f0bb28f962404affadbaf4ee029d2a96": {
      "model_module": "@jupyter-widgets/controls",
      "model_module_version": "1.5.0",
      "model_name": "ButtonModel",
      "state": {
       "button_style": "warning",
       "icon": "line-chart",
       "layout": "IPY_MODEL_aba60a869abd4035a559164540eb6c15",
       "style": "IPY_MODEL_7e5fce5ea8d5486d80199bb76a7c3fb6",
       "tooltip": "Click to open this DataSet's plot in a tab above."
      }
     },
     "f151427c40d04719a62d3dcc22288640": {
      "model_module": "@jupyter-widgets/controls",
      "model_module_version": "1.5.0",
      "model_name": "TabModel",
      "state": {
       "_titles": {
        "0": "Info"
       },
       "children": [
        "IPY_MODEL_c0fb5841a2ea4cbc9fbfc40e372151e4"
       ],
       "layout": "IPY_MODEL_b94a8b118ed74f06b73dc19e43627907"
      }
     },
     "f1b4870e7cf74cc981643f003cc7c2e6": {
      "model_module": "@jupyter-widgets/controls",
      "model_module_version": "1.5.0",
      "model_name": "ButtonModel",
      "state": {
       "button_style": "success",
       "description": "tutorial_exp, synthetic data",
       "layout": "IPY_MODEL_c6856c062e80496dbcc3706af459011e",
       "style": "IPY_MODEL_4d55591a0ef14ee6a003e464c21c7f0d",
       "tooltip": "tutorial_exp, synthetic data"
      }
     },
     "f2b41bc3a74f460dad79fa06305b5e4f": {
      "model_module": "@jupyter-widgets/controls",
      "model_module_version": "1.5.0",
      "model_name": "ButtonModel",
      "state": {
       "button_style": "warning",
       "icon": "line-chart",
       "layout": "IPY_MODEL_352b62e8ec4049e086334d5677498858",
       "style": "IPY_MODEL_087a4a428a0f461c87b6cf60b76af561",
       "tooltip": "Click to open this DataSet's plot in a tab above."
      }
     },
     "f489ac4b8fc34138b9609c095d6b690f": {
      "model_module": "@jupyter-widgets/controls",
      "model_module_version": "1.5.0",
      "model_name": "ButtonStyleModel",
      "state": {}
     },
     "f4e1e0c09f214497b9d2bfc115b83e89": {
      "model_module": "@jupyter-widgets/controls",
      "model_module_version": "1.5.0",
      "model_name": "VBoxModel",
      "state": {
       "children": [
        "IPY_MODEL_31598707a34b4ecdbfdb1e8f63afcc97"
       ],
       "layout": "IPY_MODEL_7e5f5164f5a140bd82a5b5f0a59fb861"
      }
     },
     "f6b8a96d1e1149b2883669b4a95f8387": {
      "model_module": "@jupyter-widgets/controls",
      "model_module_version": "1.5.0",
      "model_name": "VBoxModel",
      "state": {
       "children": [
        "IPY_MODEL_a7f6501890af4745af2757af8eaeab41"
       ],
       "layout": "IPY_MODEL_12eaf3cff0824f5c994119746663e6c5"
      }
     },
     "f9dc3eaf321041e083caeb424b5920cc": {
      "model_module": "@jupyter-widgets/controls",
      "model_module_version": "1.5.0",
      "model_name": "ButtonModel",
      "state": {
       "button_style": "success",
       "description": "tutorial_exp, synthetic data",
       "layout": "IPY_MODEL_78afa3e8e4554bd8aedbfb22a12005c7",
       "style": "IPY_MODEL_9fffbfde565841b9a4717c042fe38e33",
       "tooltip": "tutorial_exp, synthetic data"
      }
     },
     "fa2fc00423c0469f8feca94694951afc": {
      "model_module": "@jupyter-widgets/base",
      "model_module_version": "1.2.0",
      "model_name": "LayoutModel",
      "state": {}
     },
     "fa381e10d2474c5f8ce4aac33729ffd9": {
      "model_module": "@jupyter-widgets/base",
      "model_module_version": "1.2.0",
      "model_name": "LayoutModel",
      "state": {
       "grid_area": "widget050",
       "height": "auto",
       "width": "auto"
      }
     },
     "ffc8993272bf46e8be30f12153456757": {
      "model_module": "@jupyter-widgets/controls",
      "model_module_version": "1.5.0",
      "model_name": "VBoxModel",
      "state": {
       "children": [
        "IPY_MODEL_edc7eeb74842474fbe330acc877fd046"
       ],
       "layout": "IPY_MODEL_7382c646755a4e70ac7b9efe408b4ce3"
      }
     }
    },
    "version_major": 2,
    "version_minor": 0
   }
  }
 },
 "nbformat": 4,
 "nbformat_minor": 4
}
